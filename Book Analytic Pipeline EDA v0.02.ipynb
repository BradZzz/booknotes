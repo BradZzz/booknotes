{
 "cells": [
  {
   "cell_type": "code",
   "execution_count": 1,
   "metadata": {
    "collapsed": true
   },
   "outputs": [],
   "source": [
    "#EDA\n",
    "%matplotlib inline\n",
    "from textblob import TextBlob\n",
    "from sklearn.feature_extraction.text import TfidfVectorizer, CountVectorizer, TfidfTransformer\n",
    "import io\n",
    "import pandas as pd\n",
    "import numpy as np\n",
    "from matplotlib import pyplot as plt\n",
    "from scipy.cluster.hierarchy import dendrogram, linkage, cophenet\n",
    "from scipy.spatial.distance import pdist\n",
    "from textblob import TextBlob, Word\n",
    "import json\n",
    "import os\n",
    "from os.path import basename\n",
    "from sklearn import preprocessing\n",
    "from __future__ import division, unicode_literals\n",
    "from scipy.cluster.hierarchy import fcluster\n",
    "import random\n",
    "\n",
    "#Models\n",
    "from sklearn.neighbors import KNeighborsClassifier\n",
    "from sklearn.model_selection import train_test_split\n",
    "from sklearn.manifold import TSNE\n",
    "from sklearn.metrics.pairwise import cosine_similarity\n",
    "from sklearn.decomposition import PCA\n",
    "from sklearn.cluster import KMeans\n",
    "from sklearn.discriminant_analysis import LinearDiscriminantAnalysis\n",
    "\n",
    "#Misc\n",
    "import warnings\n",
    "warnings.filterwarnings('ignore')"
   ]
  },
  {
   "cell_type": "code",
   "execution_count": 2,
   "metadata": {
    "collapsed": false
   },
   "outputs": [],
   "source": [
    "def makeFString(title):\n",
    "    return base + title + '.txt'\n",
    "\n",
    "def makeFExtString(title, ext):\n",
    "    return base + title + ext\n",
    "\n",
    "def openFile(fName):\n",
    "    with open(fName) as dFile:    \n",
    "        data = json.load(dFile)\n",
    "    return data\n",
    "\n",
    "def saveData(nFile, data):\n",
    "    target = open(nFile, 'w')\n",
    "    target.write(data)\n",
    "    target.close()\n",
    "    return target\n",
    "\n",
    "def pullTerm(data, term):\n",
    "    comp = []\n",
    "    for x in data:\n",
    "        if term in x:\n",
    "            comp += [x[term]]\n",
    "    return comp\n",
    "    \n",
    "def analyze(bag):\n",
    "    return analyzeCoSim(analyzeVectorizer(bag, 0.70, 0.05))\n",
    "\n",
    "def analyzeVectorizer(bag, max_df, min_df):\n",
    "    tfidf_vectorizer = TfidfVectorizer(max_df = max_df, min_df = min_df)\n",
    "    return tfidf_vectorizer.fit_transform(bag)\n",
    "\n",
    "def analyzeVectorizerA(bag):\n",
    "    tfidf_vectorizer = TfidfVectorizer()\n",
    "    return tfidf_vectorizer.fit_transform(bag)\n",
    "\n",
    "def analyzeCoSim(bag):\n",
    "    sim = []\n",
    "    for x, matx in enumerate(bag):\n",
    "        cos_sim = cosine_similarity(matx, bag)\n",
    "        sim += cos_sim.tolist()\n",
    "    return sim"
   ]
  },
  {
   "cell_type": "code",
   "execution_count": 3,
   "metadata": {
    "collapsed": true
   },
   "outputs": [],
   "source": [
    "def get_files(path):\n",
    "    for (dirpath, _, filenames) in os.walk(path):\n",
    "        for filename in filenames:\n",
    "            yield os.path.join(dirpath, filename)\n",
    " \n",
    "def getFilename(fPath):\n",
    "    return basename(fPath).rsplit('.', 1)[0]\n",
    "\n",
    "def findExtMissing(fName, ext):\n",
    "    filename, file_extension = os.path.splitext(fName)\n",
    "    if os.path.exists(filename + '(analysis)' + ext):\n",
    "        return False\n",
    "    return True\n",
    "\n",
    "def getMissingBooks():\n",
    "    files = []\n",
    "    for filename in get_files('./test_assets/'):\n",
    "        if '.txt' in filename and findExtMissing(filename,'.json'):\n",
    "            files += [filename]\n",
    "    return files\n",
    "\n",
    "def getBooks():\n",
    "    files = []\n",
    "    for filename in get_files('./test_assets/'):\n",
    "        if '.json' in filename:\n",
    "            files += [filename]\n",
    "    return files"
   ]
  },
  {
   "cell_type": "code",
   "execution_count": 4,
   "metadata": {
    "collapsed": true
   },
   "outputs": [],
   "source": [
    "def scaleIgnoreFirst(data):\n",
    "    construct = []\n",
    "    cols = data.columns.values\n",
    "    for col in cols:\n",
    "        sorted_col = pd.DataFrame(data[col])\n",
    "        first = sorted_col.nlargest(2, col).iloc[0]\n",
    "        second = sorted_col.nlargest(2, col).iloc[1]\n",
    "        sorted_col.loc[sorted_col[col] == first[col], col] = second[col]\n",
    "        construct += [sorted_col]\n",
    "    new_df = pd.concat(construct, axis=1)\n",
    "    return new_df\n",
    "\n",
    "def scaleMinMax(data):\n",
    "    return pd.DataFrame(preprocessing.MinMaxScaler().fit_transform(data))\n",
    "\n",
    "# def returnNormCS(df):\n",
    "#     min_max_scaler = preprocessing.MinMaxScaler()\n",
    "#     scaled = scaleIgnoreFirst(df)\n",
    "#     df_phrase_scaled = min_max_scaler.fit_transform(scaled)\n",
    "#     df_normalized = pd.DataFrame(df_phrase_scaled)\n",
    "#     return df_normalized"
   ]
  },
  {
   "cell_type": "code",
   "execution_count": 5,
   "metadata": {
    "collapsed": false
   },
   "outputs": [],
   "source": [
    "titles = getBooks()\n",
    "datum = []\n",
    "\n",
    "for title in titles:\n",
    "    data = openFile(title)\n",
    "    datum += [data]"
   ]
  },
  {
   "cell_type": "code",
   "execution_count": 6,
   "metadata": {
    "collapsed": true
   },
   "outputs": [],
   "source": [
    "df_words = pd.DataFrame(analyze(pullTerm(datum,'words')))\n",
    "df_sentiment = pd.DataFrame(analyze(pullTerm(datum,'sentiment')))"
   ]
  },
  {
   "cell_type": "code",
   "execution_count": 7,
   "metadata": {
    "collapsed": false
   },
   "outputs": [],
   "source": [
    "# norm_cs_words = returnNormCS(df_words)\n",
    "# norm_cs_sentiment = returnNormCS(df_sentiment)\n",
    "df_words = pd.DataFrame(analyze(pullTerm(datum,'words')))\n",
    "df_sentiment = pd.DataFrame(analyze(pullTerm(datum,'sentiment')))"
   ]
  },
  {
   "cell_type": "code",
   "execution_count": 8,
   "metadata": {
    "collapsed": false
   },
   "outputs": [],
   "source": [
    "metas = [[x['words'], x['polarity'], x['subjectivity']] for x in pullTerm(datum,'meta')]\n",
    "# print df_metas.max()\n",
    "# print df_metas.min()\n",
    "# df_metas.head()\n",
    "# norm_cs_meta = returnNormCS(pd.DataFrame(analyzeCoSim(metas)))"
   ]
  },
  {
   "cell_type": "code",
   "execution_count": 9,
   "metadata": {
    "collapsed": false,
    "scrolled": true
   },
   "outputs": [
    {
     "data": {
      "text/html": [
       "<div>\n",
       "<table border=\"1\" class=\"dataframe\">\n",
       "  <thead>\n",
       "    <tr style=\"text-align: right;\">\n",
       "      <th></th>\n",
       "      <th>authors</th>\n",
       "      <th>categories</th>\n",
       "      <th>title</th>\n",
       "      <th>files</th>\n",
       "    </tr>\n",
       "  </thead>\n",
       "  <tbody>\n",
       "    <tr>\n",
       "      <th>0</th>\n",
       "      <td>None</td>\n",
       "      <td>Agriculture</td>\n",
       "      <td>The Plantation</td>\n",
       "      <td>A M Hartnett, Carried Away - The Deep End</td>\n",
       "    </tr>\n",
       "    <tr>\n",
       "      <th>1</th>\n",
       "      <td>Abigail Roux</td>\n",
       "      <td>Fiction</td>\n",
       "      <td>Ball &amp; Chain</td>\n",
       "      <td>Abigail Roux, Ball &amp; Chain</td>\n",
       "    </tr>\n",
       "    <tr>\n",
       "      <th>2</th>\n",
       "      <td>Adite Banerjie</td>\n",
       "      <td>Fiction</td>\n",
       "      <td>The Indian Tycoon's Marriage Deal</td>\n",
       "      <td>Adite Banerjie, The Indian Tycoon's Marriage Deal</td>\n",
       "    </tr>\n",
       "    <tr>\n",
       "      <th>3</th>\n",
       "      <td>Aharon Appelfeld</td>\n",
       "      <td>Fiction</td>\n",
       "      <td>Suddenly, Love</td>\n",
       "      <td>Aharon Appelfeld, Suddenly, Love</td>\n",
       "    </tr>\n",
       "    <tr>\n",
       "      <th>4</th>\n",
       "      <td>Alan Dean Foster</td>\n",
       "      <td>Fiction</td>\n",
       "      <td>The Force Awakens</td>\n",
       "      <td>Alan Foster, Star Wars - The Force Awakens</td>\n",
       "    </tr>\n",
       "  </tbody>\n",
       "</table>\n",
       "</div>"
      ],
      "text/plain": [
       "            authors   categories                              title  \\\n",
       "0              None  Agriculture                     The Plantation   \n",
       "1      Abigail Roux      Fiction                       Ball & Chain   \n",
       "2    Adite Banerjie      Fiction  The Indian Tycoon's Marriage Deal   \n",
       "3  Aharon Appelfeld      Fiction                     Suddenly, Love   \n",
       "4  Alan Dean Foster      Fiction                  The Force Awakens   \n",
       "\n",
       "                                               files  \n",
       "0          A M Hartnett, Carried Away - The Deep End  \n",
       "1                         Abigail Roux, Ball & Chain  \n",
       "2  Adite Banerjie, The Indian Tycoon's Marriage Deal  \n",
       "3                   Aharon Appelfeld, Suddenly, Love  \n",
       "4         Alan Foster, Star Wars - The Force Awakens  "
      ]
     },
     "execution_count": 9,
     "metadata": {},
     "output_type": "execute_result"
    }
   ],
   "source": [
    "google_metas = []\n",
    "for x in pullTerm(datum,'meta'):\n",
    "    info = {}\n",
    "    x_goog = x['google']\n",
    "    if 'title' in x_goog:\n",
    "        info['title'] = x_goog['title']\n",
    "    else:\n",
    "        info['title'] = None\n",
    "    if 'authors' in x_goog:\n",
    "        info['authors'] = ', '.join(x_goog['authors'])\n",
    "    else:\n",
    "        info['authors'] = None\n",
    "    if 'categories' in x_goog:\n",
    "        info['categories'] = ' '.join(x_goog['categories'])\n",
    "    else:\n",
    "        info['categories'] = None\n",
    "    google_metas += [info]\n",
    "\n",
    "g_meta_df = pd.DataFrame(google_metas)\n",
    "g_meta_df['files'] = [getFilename(x).replace(\"(analysis)\",\"\") for x in titles]\n",
    "g_meta_df.head()"
   ]
  },
  {
   "cell_type": "code",
   "execution_count": 10,
   "metadata": {
    "collapsed": false
   },
   "outputs": [
    {
     "data": {
      "text/plain": [
       "[u'Fiction',\n",
       " u'Juvenile Fiction',\n",
       " u'Biography & Autobiography',\n",
       " u'Humor',\n",
       " u'Young Adult Fiction']"
      ]
     },
     "execution_count": 10,
     "metadata": {},
     "output_type": "execute_result"
    }
   ],
   "source": [
    "top = g_meta_df['categories'].value_counts().index.tolist()\n",
    "top[:5]"
   ]
  },
  {
   "cell_type": "code",
   "execution_count": 12,
   "metadata": {
    "collapsed": false
   },
   "outputs": [
    {
     "data": {
      "text/plain": [
       "<matplotlib.legend.Legend at 0x12e613290>"
      ]
     },
     "execution_count": 12,
     "metadata": {},
     "output_type": "execute_result"
    },
    {
     "data": {
      "image/png": "[encoded data removed]",
      "text/plain": [
       "<matplotlib.figure.Figure at 0x12e613310>"
      ]
     },
     "metadata": {},
     "output_type": "display_data"
    }
   ],
   "source": [
    "# Compare in all books (General)\n",
    "# Compare in other books (General)\n",
    "# Compare in all books (Specific)\n",
    "# Compare in other books (Specific)\n",
    "\n",
    "def getCombinedVector(words, senti):\n",
    "    vect_words = analyzeVectorizer(words, .8, .05).toarray()\n",
    "    vect_senti = analyzeVectorizerA(senti).toarray()\n",
    "    return np.concatenate((vect_words, vect_senti), axis=1)\n",
    "\n",
    "def getPCA(vector):\n",
    "    pca = PCA(n_components=2)\n",
    "    pca_results = pca.fit_transform(vector)\n",
    "    return pca_results\n",
    "\n",
    "def getLinkCluster(X, max_d):\n",
    "    Z = linkage(X, 'ward')\n",
    "    clusters = fcluster(Z, max_d, criterion='distance')\n",
    "    return Z, clusters\n",
    "    \n",
    "vector = getCombinedVector(pullTerm(datum,'words'), pullTerm(datum,'sentiment'))\n",
    "vector = scaleMinMax(np.concatenate((vector, metas), axis=1))\n",
    "#scaled_metas\n",
    "#scaled_metas = scaleMinMax(metas)\n",
    "pca_df = pd.DataFrame(getPCA(vector), columns=['x','y'])\n",
    "Z, clusters = getLinkCluster(vector, 45)\n",
    "plt.scatter(pca_df['x'], pca_df['y'], s=120, c='r', label=str('label'))\n",
    "plt.legend()"
   ]
  },
  {
   "cell_type": "code",
   "execution_count": 42,
   "metadata": {
    "collapsed": false
   },
   "outputs": [
    {
     "name": "stdout",
     "output_type": "stream",
     "text": [
      "[[0 0 0 ..., 0 0 0]\n",
      " [0 0 0 ..., 0 0 0]\n",
      " [0 0 0 ..., 0 0 0]\n",
      " ..., \n",
      " [0 0 0 ..., 0 0 0]\n",
      " [0 0 0 ..., 0 0 0]\n",
      " [0 0 0 ..., 0 0 0]]\n"
     ]
    }
   ],
   "source": [
    "# bigram_vectorizer = CountVectorizer(min_df=1)\n",
    "# analyze = bigram_vectorizer.build_analyzer()\n",
    "# analyze(pullTerm(datum,'words')[0])\n",
    "\n",
    "import re\n",
    "REGEX = re.compile(r\",\\s*\")\n",
    "def tokenize(text):\n",
    "    return [tok.strip().lower() for tok in REGEX.split(text)]\n",
    "\n",
    "from sklearn.feature_extraction.text import CountVectorizer\n",
    "vec = CountVectorizer(analyzer = 'word')\n",
    "data = vec.fit_transform(pullTerm(datum,'words')[0].split(\" \")).toarray()\n",
    "print data"
   ]
  },
  {
   "cell_type": "code",
   "execution_count": 44,
   "metadata": {
    "collapsed": false
   },
   "outputs": [],
   "source": [
    "import numpy as np\n",
    "#np.clip(data, 0, 1, out=data)\n",
    "dist = np.sum(data, axis=0)\n",
    "vocab = vec.get_feature_names()\n",
    "\n",
    "# sorted(zip(vocab, dist), key=getKey)\n",
    "\n",
    "# for tag, count in zip(vocab, dist):\n",
    "#     print count, tag"
   ]
  },
  {
   "cell_type": "code",
   "execution_count": 2,
   "metadata": {
    "collapsed": false
   },
   "outputs": [],
   "source": [
    "# from sklearn.feature_extraction.text import CountVectorizer\n",
    "# def getKey(item):\n",
    "#     return item[0]\n",
    "\n",
    "# def returnTopWords(wordz, top):\n",
    "#     vec = CountVectorizer(analyzer = 'word')\n",
    "#     data = vec.fit_transform(wordz).toarray()\n",
    "#     dist = np.sum(data, axis=0)\n",
    "#     vocab = vec.get_feature_names()\n",
    "#     return sorted(zip(dist, vocab), key=getKey, reverse=True)[:top]\n",
    "\n",
    "# def returnSelectedWords(wordz, selected):\n",
    "#     vec = CountVectorizer(analyzer = 'word')\n",
    "#     data = vec.fit_transform(wordz).toarray()\n",
    "#     dist = np.sum(data, axis=0)\n",
    "#     vocab = vec.get_feature_names()\n",
    "#     return [x for x in sorted(zip(dist, vocab), key=getKey, reverse=True) if x[0] > selected]\n",
    "\n",
    "# #print returnSelectedWords(pullTerm(datum,'words')[0].split(\" \"), 20)\n",
    "# print returnTopWords(pullTerm(datum,'words')[0].split(\" \"), 20)"
   ]
  },
  {
   "cell_type": "code",
   "execution_count": 1,
   "metadata": {
    "collapsed": false
   },
   "outputs": [],
   "source": [
    "# df_1 = pd.DataFrame(returnSelectedWords(pullTerm(datum,'words')[0].split(\" \"), 20), columns=['count','word'])\n",
    "# df_2 = pd.DataFrame(returnSelectedWords(pullTerm(datum,'words')[1].split(\" \"), 20), columns=['count','word'])\n",
    "\n",
    "# def compareBooks(book1, book2):\n",
    "#     print \"Commonalities Book 1\"\n",
    "#     print df_1[df_1['word'].isin(df_2['word'])][:10]\n",
    "#     print \"Differences Book 1\"\n",
    "#     print df_1[~df_1['word'].isin(df_2['word'])][:10]\n",
    "#     print \"Commonalities Book 2\"\n",
    "#     print df_2[df_2['word'].isin(df_1['word'])][:10]\n",
    "#     print \"Differences Book 2\"\n",
    "#     print df_2[~df_2['word'].isin(df_1['word'])][:10]\n",
    "\n",
    "# # print df_1.head()\n",
    "# # print df_2.head()\n",
    "\n",
    "# #print df_1[df_1['word'].isin(df_2['word'])]\n",
    "# # print df_2[df_2['word'].isin(df_1['word'])][:10]['word'].values\n",
    "# compareBooks(df_1, df_2)"
   ]
  },
  {
   "cell_type": "code",
   "execution_count": null,
   "metadata": {
    "collapsed": true
   },
   "outputs": [],
   "source": []
  },
  {
   "cell_type": "code",
   "execution_count": 45,
   "metadata": {
    "collapsed": false
   },
   "outputs": [
    {
     "name": "stdout",
     "output_type": "stream",
     "text": [
      "1    205\n",
      "4     31\n",
      "2     30\n",
      "3      2\n",
      "dtype: int64\n"
     ]
    }
   ],
   "source": [
    "print pd.Series(clusters).value_counts()"
   ]
  },
  {
   "cell_type": "code",
   "execution_count": 12,
   "metadata": {
    "collapsed": false
   },
   "outputs": [],
   "source": [
    "def dendroShow(Z):\n",
    "    plt.figure(figsize=(25, 10))\n",
    "    plt.title('Hierarchical Clustering Dendrogram')\n",
    "    plt.xlabel('sample index')\n",
    "    plt.ylabel('distance')\n",
    "    dendrogram(\n",
    "        Z,\n",
    "        leaf_rotation=90.,  # rotates the x axis labels\n",
    "        leaf_font_size=8.,  # font size for the x axis labels\n",
    "    )\n",
    "    plt.show()"
   ]
  },
  {
   "cell_type": "code",
   "execution_count": 13,
   "metadata": {
    "collapsed": false
   },
   "outputs": [],
   "source": [
    "def searchMeta(meta, term):\n",
    "    for idx, x in enumerate(meta):\n",
    "        for y in x:\n",
    "            if y is not None and term.lower() in y.lower():\n",
    "                return idx\n",
    "    return None\n",
    "\n",
    "def findRowsinCluster(pos, vector, clusters, meta, inverse):\n",
    "    search_cluster = clusters[pos]\n",
    "    n_vect = []\n",
    "    n_meta = []\n",
    "    for idx, x in enumerate(clusters):\n",
    "        if (not inverse and x == search_cluster) or (inverse and (x != search_cluster or idx == pos)):\n",
    "            n_vect += [vector[idx]]\n",
    "            n_meta += [meta[idx]]\n",
    "    return n_vect, n_meta\n",
    "\n",
    "def determineCloseness(pos, data, spots, incluster, reverse):\n",
    "    datay = data.sort([pos],ascending=[0]).index\n",
    "    print \"Book: \" + getFilename(getBooks()[pos].replace(\"(analysis)\",\"\"))\n",
    "    matches = []\n",
    "    for idx, x in enumerate(datay):\n",
    "        if (x != pos and ((not reverse and x in incluster) or (reverse and x not in incluster))):\n",
    "            result = str(idx) + \":\" + str(x) + \" - \"\n",
    "            if \"authors\" in meta_fiction_all.iloc[x,:] and meta_fiction_all.iloc[x,:][\"authors\"] is not None:\n",
    "                result += meta_fiction_all.iloc[x,:][\"authors\"]\n",
    "            if \"title\" in meta_fiction_all.iloc[x,:] and meta_fiction_all.iloc[x,:][\"title\"] is not None:\n",
    "                result += \", \" + meta_fiction_all.iloc[x,:][\"title\"]\n",
    "            result += \" (\" + str(round(data[pos][x],2)) + \")\"\n",
    "            matches += [result]\n",
    "        if len(matches) >= spots:\n",
    "            return matches\n",
    "    return matches\n",
    "\n",
    "def printList(listy):\n",
    "    for x in listy:\n",
    "        print x\n",
    "    \n",
    "    \n",
    "n_vect, n_meta = findRowsinCluster(0, vector, clusters, g_meta_df.as_matrix(), False)\n",
    "n_pca_df = pd.DataFrame(getPCA(n_vect), columns=['x','y'])\n",
    "n_Z, sub_clusters = getLinkCluster(n_vect, 1.5)"
   ]
  },
  {
   "cell_type": "code",
   "execution_count": 21,
   "metadata": {
    "collapsed": false
   },
   "outputs": [
    {
     "name": "stdout",
     "output_type": "stream",
     "text": [
      "Searching for term:  James S.A. Corey, Babylon's Ashes \n",
      "\n"
     ]
    },
    {
     "data": {
      "image/png": "[encoded data removed]",
      "text/plain": [
       "<matplotlib.figure.Figure at 0x12e876550>"
      ]
     },
     "metadata": {},
     "output_type": "display_data"
    },
    {
     "name": "stdout",
     "output_type": "stream",
     "text": [
      "Compare to all the books in global category\n",
      "0.446960316851  : D J McCune, Death & Co - The Mortal Knife\n",
      "0.42767887317  : Chris Lynch, Vietnam - I Pledge Allegiance\n",
      "0.417565294695  : Catherine Lanigan, Shores of Indian Lake - Love Shadows\n",
      "0.413861929748  : Camille Elliot, Prelude for a Lord\n",
      "0.411725680694  : Scott Nicholson, After - The Echo\n",
      "0.372913125595  : Chris Weitz, Young World - The Young World\n",
      "0.340234433602  : John Grisham, Rogue Lawyer\n",
      "0.332221201692  : Dan Decker, War of the Fathers - Shadows of Bloodshed\n",
      "0.321941014465  : Cynthia Kimball, Dating Service - Your Dimension or Mine\n",
      "\n",
      "Compare to all the books not in global category\n",
      "0.471223913413  : James Wade, Collected Stories\n",
      "0.293243326771  : Captain Chesley B. Sullenberger, Highest Duty\n",
      "0.281230474948  : R. Chetwynd-Hayes, Collected Stories\n",
      "0.27930240552  : William Kienzle, Assault With Intent - The Father\n",
      "0.238261700467  : Christianna Brand, Buffet for Unwelcome Guests\n",
      "0.233553950761  : Dave Barry, Complete Guide to Guys\n",
      "0.207350278149  : Andi Dorfman, It's Not Okay - Turning Heartbreak into Happily Never After\n",
      "0.206744586265  : John Jacob Astor, Astoria\n",
      "0.19828952434  : Michele Barrow, Fire and Ice\n",
      "205\n"
     ]
    },
    {
     "data": {
      "image/png": "[encoded data removed]",
      "text/plain": [
       "<matplotlib.figure.Figure at 0x12e268590>"
      ]
     },
     "metadata": {},
     "output_type": "display_data"
    },
    {
     "name": "stdout",
     "output_type": "stream",
     "text": [
      "\n",
      "Compare to all the local books in local category\n",
      "0.446960316851  : D J McCune, Death & Co - The Mortal Knife\n",
      "0.42767887317  : Chris Lynch, Vietnam - I Pledge Allegiance\n",
      "0.417565294695  : Catherine Lanigan, Shores of Indian Lake - Love Shadows\n",
      "0.413861929748  : Camille Elliot, Prelude for a Lord\n",
      "0.332221201692  : Dan Decker, War of the Fathers - Shadows of Bloodshed\n",
      "0.321941014465  : Cynthia Kimball, Dating Service - Your Dimension or Mine\n",
      "0.280663053645  : Barbara Steiner, The Dark Chronicles - The Calling\n",
      "0.269689063595  : Victoria Hale, A Picture of Desire\n",
      "0.232541622963  : Molly McGuire Woods, Barbie and the Secret Door\n",
      "\n",
      "Compare to all the local books not in local category\n",
      "0.411725680694  : Scott Nicholson, After - The Echo\n",
      "0.372913125595  : Chris Weitz, Young World - The Young World\n",
      "0.340234433602  : John Grisham, Rogue Lawyer\n",
      "0.314665413429  : Carolyn Keene, Nancy Drew Diaries - Win, Place or Die\n",
      "0.224896634106  : Kristen Middleton, Dark Realms\n",
      "0.221879008137  : Bernadette Marie, Keller Family - The Acceptance\n",
      "0.217067506021  : Jo Bannister, Changelings\n",
      "0.198427986774  : Katy Evans, Womanizer\n",
      "0.197727250909  : Barbara Steiner, The Photographer - The Dark Room\n"
     ]
    }
   ],
   "source": [
    "def getCloseness(pos, data):\n",
    "    return data.sort([pos],ascending=[0]).index\n",
    "\n",
    "def printResults(term, meta, sim_matrix, num):\n",
    "    pos = searchMeta(meta, term)\n",
    "    closeness = getCloseness(searchMeta(meta, term), sim_matrix)\n",
    "    res = num if len(closeness) > num else len(closeness)\n",
    "    for x in getCloseness(searchMeta(meta, term), sim_matrix)[1:res]:\n",
    "        print sim_matrix[pos][x], \" : \" + meta[x][3]\n",
    "\n",
    "def returnResults(term, meta, vector):\n",
    "    print \"Searching for term: \" , term, \"\\n\"\n",
    "    \n",
    "    #This is the global cluster\n",
    "    n_pos = searchMeta(meta, term)\n",
    "    Z, clusters = getLinkCluster(vector, 46)\n",
    "    dendroShow(Z)\n",
    "    n_vect, n_meta = findRowsinCluster(n_pos, vector, clusters, g_meta_df.as_matrix(), False)\n",
    "    rn_vect, rn_meta = findRowsinCluster(n_pos, vector, clusters, g_meta_df.as_matrix(), True)\n",
    "    \n",
    "    global_sim_n = pd.DataFrame(analyzeCoSim(n_vect))\n",
    "    global_sim_rn = pd.DataFrame(analyzeCoSim(rn_vect))\n",
    "    \n",
    "    print \"Compare to all the books in global category\"\n",
    "    printResults(term, n_meta, global_sim_n, 10)\n",
    "    \n",
    "    print \"\\nCompare to all the books not in global category\"\n",
    "    printResults(term, rn_meta, global_sim_rn, 10)\n",
    "    \n",
    "    print len(n_vect)\n",
    "    \n",
    "    n_Z, n_clusters = getLinkCluster(n_vect, 6)\n",
    "    dendroShow(n_Z)\n",
    "    \n",
    "    #This is the local cluster\n",
    "    l_pos = searchMeta(n_meta, term)\n",
    "    l_vect, l_meta = findRowsinCluster(l_pos, n_vect, n_clusters, n_meta, False)\n",
    "    rl_vect, rl_meta = findRowsinCluster(l_pos, n_vect, n_clusters, n_meta, True)\n",
    "    \n",
    "    local_sim_l = pd.DataFrame(analyzeCoSim(l_vect))\n",
    "    local_sim_rl = pd.DataFrame(analyzeCoSim(rl_vect))\n",
    "    \n",
    "    print \"\\nCompare to all the local books in local category\"\n",
    "    printResults(term, l_meta, local_sim_l, 10)\n",
    "    \n",
    "    print \"\\nCompare to all the local books not in local category\"\n",
    "    printResults(term, rl_meta, local_sim_rl, 10)\n",
    "\n",
    "#vector = getCombinedVector(pullTerm(datum,'words'), pullTerm(datum,'sentiment'))\n",
    "returnResults(\"James S.A. Corey, Babylon's Ashes\", g_meta_df.as_matrix(), vector)"
   ]
  },
  {
   "cell_type": "code",
   "execution_count": null,
   "metadata": {
    "collapsed": false
   },
   "outputs": [],
   "source": [
    "# r_vect, r_meta = findRowsinCluster(0, n_vect, sub_clusters, n_meta)\n",
    "# for x in r_meta:\n",
    "#     print x\n",
    "# # plt.scatter(pca_df['x'], pca_df['y'], s=120, c='r', label=str('label'))\n",
    "# # plt.legend()"
   ]
  },
  {
   "cell_type": "code",
   "execution_count": null,
   "metadata": {
    "collapsed": false
   },
   "outputs": [],
   "source": [
    "# Z, clusters = getLinkCluster(getCombinedVector(pullTerm(datum,'words'), pullTerm(datum,'sentiment')))\n",
    "\n",
    "# plt.figure(figsize=(25, 10))\n",
    "# plt.title('Hierarchical Clustering Dendrogram')\n",
    "# plt.xlabel('sample index')\n",
    "# plt.ylabel('distance')\n",
    "# dendrogram(\n",
    "#     Z,\n",
    "#     leaf_rotation=90.,  # rotates the x axis labels\n",
    "#     leaf_font_size=8.,  # font size for the x axis labels\n",
    "# )\n",
    "# plt.show()"
   ]
  },
  {
   "cell_type": "code",
   "execution_count": null,
   "metadata": {
    "collapsed": true
   },
   "outputs": [],
   "source": []
  },
  {
   "cell_type": "code",
   "execution_count": 15,
   "metadata": {
    "collapsed": false
   },
   "outputs": [
    {
     "data": {
      "text/html": [
       "<div>\n",
       "<table border=\"1\" class=\"dataframe\">\n",
       "  <thead>\n",
       "    <tr style=\"text-align: right;\">\n",
       "      <th></th>\n",
       "      <th>authors</th>\n",
       "      <th>categories</th>\n",
       "      <th>title</th>\n",
       "      <th>files</th>\n",
       "    </tr>\n",
       "  </thead>\n",
       "  <tbody>\n",
       "    <tr>\n",
       "      <th>1</th>\n",
       "      <td>Abigail Roux</td>\n",
       "      <td>Fiction</td>\n",
       "      <td>Ball &amp; Chain</td>\n",
       "      <td>Abigail Roux, Ball &amp; Chain</td>\n",
       "    </tr>\n",
       "    <tr>\n",
       "      <th>2</th>\n",
       "      <td>Adite Banerjie</td>\n",
       "      <td>Fiction</td>\n",
       "      <td>The Indian Tycoon's Marriage Deal</td>\n",
       "      <td>Adite Banerjie, The Indian Tycoon's Marriage Deal</td>\n",
       "    </tr>\n",
       "    <tr>\n",
       "      <th>3</th>\n",
       "      <td>Aharon Appelfeld</td>\n",
       "      <td>Fiction</td>\n",
       "      <td>Suddenly, Love</td>\n",
       "      <td>Aharon Appelfeld, Suddenly, Love</td>\n",
       "    </tr>\n",
       "    <tr>\n",
       "      <th>4</th>\n",
       "      <td>Alan Dean Foster</td>\n",
       "      <td>Fiction</td>\n",
       "      <td>The Force Awakens</td>\n",
       "      <td>Alan Foster, Star Wars - The Force Awakens</td>\n",
       "    </tr>\n",
       "    <tr>\n",
       "      <th>5</th>\n",
       "      <td>Alannah Carbonneau</td>\n",
       "      <td>Fiction</td>\n",
       "      <td>The Curse of Bound Blood</td>\n",
       "      <td>Alannah  Carbonneau, All Good Things Absolved</td>\n",
       "    </tr>\n",
       "  </tbody>\n",
       "</table>\n",
       "</div>"
      ],
      "text/plain": [
       "              authors categories                              title  \\\n",
       "1        Abigail Roux    Fiction                       Ball & Chain   \n",
       "2      Adite Banerjie    Fiction  The Indian Tycoon's Marriage Deal   \n",
       "3    Aharon Appelfeld    Fiction                     Suddenly, Love   \n",
       "4    Alan Dean Foster    Fiction                  The Force Awakens   \n",
       "5  Alannah Carbonneau    Fiction           The Curse of Bound Blood   \n",
       "\n",
       "                                               files  \n",
       "1                         Abigail Roux, Ball & Chain  \n",
       "2  Adite Banerjie, The Indian Tycoon's Marriage Deal  \n",
       "3                   Aharon Appelfeld, Suddenly, Love  \n",
       "4         Alan Foster, Star Wars - The Force Awakens  \n",
       "5      Alannah  Carbonneau, All Good Things Absolved  "
      ]
     },
     "execution_count": 15,
     "metadata": {},
     "output_type": "execute_result"
    }
   ],
   "source": [
    "top = g_meta_df['categories'].value_counts().index.tolist()[0]\n",
    "fiction = g_meta_df.ix[(g_meta_df['categories']==top)]\n",
    "fiction.head()"
   ]
  },
  {
   "cell_type": "markdown",
   "metadata": {},
   "source": [
    "## This is the evaluation for all the books"
   ]
  },
  {
   "cell_type": "code",
   "execution_count": 16,
   "metadata": {
    "collapsed": false
   },
   "outputs": [],
   "source": [
    "pca = PCA(n_components=2)\n",
    "pca_fiction_all = pca.fit_transform(analyzeVectorizer(pullTerm(datum,'words'), .7, .05).toarray())"
   ]
  },
  {
   "cell_type": "code",
   "execution_count": 17,
   "metadata": {
    "collapsed": false
   },
   "outputs": [
    {
     "data": {
      "text/plain": [
       "<matplotlib.legend.Legend at 0x1061aa9d0>"
      ]
     },
     "execution_count": 17,
     "metadata": {},
     "output_type": "execute_result"
    },
    {
     "data": {
      "image/png": "[encoded data removed]",
      "text/plain": [
       "<matplotlib.figure.Figure at 0x12dc2e9d0>"
      ]
     },
     "metadata": {},
     "output_type": "display_data"
    }
   ],
   "source": [
    "pca_df = pd.DataFrame(pca_fiction_all, columns=['x','y'])\n",
    "plt.scatter(pca_df['x'], pca_df['y'], s=120, c='r', label=str('label'))\n",
    "plt.legend()"
   ]
  },
  {
   "cell_type": "markdown",
   "metadata": {},
   "source": [
    "## Where Google thinks the book's category belongs"
   ]
  },
  {
   "cell_type": "code",
   "execution_count": 18,
   "metadata": {
    "collapsed": false
   },
   "outputs": [
    {
     "data": {
      "text/plain": [
       "<matplotlib.legend.Legend at 0x12d1d7510>"
      ]
     },
     "execution_count": 18,
     "metadata": {},
     "output_type": "execute_result"
    },
    {
     "data": {
      "image/png": "[encoded data removed]",
      "text/plain": [
       "<matplotlib.figure.Figure at 0x127bca090>"
      ]
     },
     "metadata": {},
     "output_type": "display_data"
    }
   ],
   "source": [
    "r = lambda: random.randint(0,255)\n",
    "\n",
    "def getColor():\n",
    "    return '#%02X%02X%02X' % (r(),r(),r())\n",
    "\n",
    "cats = {}\n",
    "for x in g_meta_df['categories'].value_counts().index.tolist():\n",
    "    cats[x] = getColor()\n",
    "    \n",
    "pca_df['categories'] = [x for x in g_meta_df['categories']]\n",
    "pca_df_n = pca_df.dropna()\n",
    "pca_df_n['colors'] = [cats[x] for x in pca_df_n['categories']]\n",
    "\n",
    "plt.scatter(pca_df_n['x'], pca_df_n['y'], s=120, c=pca_df_n['colors'], label=str('label'))\n",
    "plt.legend()"
   ]
  },
  {
   "cell_type": "markdown",
   "metadata": {},
   "source": [
    "## Where unsupervised learning thinks it belongs"
   ]
  },
  {
   "cell_type": "code",
   "execution_count": 26,
   "metadata": {
    "collapsed": false
   },
   "outputs": [
    {
     "data": {
      "image/png": "[encoded data removed]",
      "text/plain": [
       "<matplotlib.figure.Figure at 0x12dd755d0>"
      ]
     },
     "metadata": {},
     "output_type": "display_data"
    }
   ],
   "source": [
    "vectorized_words = analyzeVectorizer(pullTerm(datum,'words'), .7, .05)\n",
    "\n",
    "X = vectorized_words.todense()\n",
    "Z = linkage(X, 'ward')\n",
    "max_d = 2.25\n",
    "clusters = fcluster(Z, max_d, criterion='distance')\n",
    "\n",
    "plt.figure(figsize=(25, 10))\n",
    "plt.title('Hierarchical Clustering Dendrogram')\n",
    "plt.xlabel('sample index')\n",
    "plt.ylabel('distance')\n",
    "dendrogram(\n",
    "    Z,\n",
    "    leaf_rotation=90.,  # rotates the x axis labels\n",
    "    leaf_font_size=8.,  # font size for the x axis labels\n",
    ")\n",
    "plt.show()"
   ]
  },
  {
   "cell_type": "code",
   "execution_count": 27,
   "metadata": {
    "collapsed": false
   },
   "outputs": [
    {
     "data": {
      "text/plain": [
       "<matplotlib.legend.Legend at 0x12f400750>"
      ]
     },
     "execution_count": 27,
     "metadata": {},
     "output_type": "execute_result"
    },
    {
     "data": {
      "image/png": "[encoded data removed]",
      "text/plain": [
       "<matplotlib.figure.Figure at 0x12d1d5450>"
      ]
     },
     "metadata": {},
     "output_type": "display_data"
    }
   ],
   "source": [
    "cats = {}\n",
    "for x in pd.Series(clusters).value_counts().index.tolist():\n",
    "    cats[x] = getColor()\n",
    "\n",
    "pca_df_unsuper = pd.DataFrame(pca_df) \n",
    "\n",
    "pca_df_unsuper['colors'] = [cats[x] for x in clusters]\n",
    "plt.scatter(pca_df_unsuper['x'], pca_df_unsuper['y'], s=120, c=pca_df_unsuper['colors'], label=str('label'))\n",
    "plt.legend()"
   ]
  },
  {
   "cell_type": "markdown",
   "metadata": {},
   "source": [
    "## Let's evaluate sentiment and words now"
   ]
  },
  {
   "cell_type": "code",
   "execution_count": 28,
   "metadata": {
    "collapsed": true
   },
   "outputs": [],
   "source": [
    "vect_words = analyzeVectorizer(pullTerm(datum,'words'), .80, .05).toarray()\n",
    "vect_sentiment = analyzeVectorizerA(pullTerm(datum,'sentiment')).toarray()"
   ]
  },
  {
   "cell_type": "code",
   "execution_count": 29,
   "metadata": {
    "collapsed": true
   },
   "outputs": [],
   "source": [
    "all_metrics = np.concatenate((vect_words, vect_sentiment), axis=1)\n",
    "pca_fiction = pca.fit_transform(all_metrics)"
   ]
  },
  {
   "cell_type": "code",
   "execution_count": 30,
   "metadata": {
    "collapsed": false
   },
   "outputs": [
    {
     "data": {
      "text/plain": [
       "<matplotlib.legend.Legend at 0x12dc2e950>"
      ]
     },
     "execution_count": 30,
     "metadata": {},
     "output_type": "execute_result"
    },
    {
     "data": {
      "image/png": "[encoded data removed]",
      "text/plain": [
       "<matplotlib.figure.Figure at 0x12f54b050>"
      ]
     },
     "metadata": {},
     "output_type": "display_data"
    }
   ],
   "source": [
    "pca_df = pd.DataFrame(pca_fiction, columns=['x','y'])\n",
    "plt.scatter(pca_df['x'], pca_df['y'], s=120, c='r', label=str('label'))\n",
    "plt.legend()"
   ]
  },
  {
   "cell_type": "code",
   "execution_count": 34,
   "metadata": {
    "collapsed": false
   },
   "outputs": [
    {
     "data": {
      "image/png": "[encoded data removed]",
      "text/plain": [
       "<matplotlib.figure.Figure at 0x12db92510>"
      ]
     },
     "metadata": {},
     "output_type": "display_data"
    }
   ],
   "source": [
    "X = all_metrics\n",
    "Z = linkage(X, 'ward')\n",
    "max_d = 2.4\n",
    "clusters = fcluster(Z, max_d, criterion='distance')\n",
    "\n",
    "plt.figure(figsize=(25, 10))\n",
    "plt.title('Hierarchical Clustering Dendrogram')\n",
    "plt.xlabel('sample index')\n",
    "plt.ylabel('distance')\n",
    "dendrogram(\n",
    "    Z,\n",
    "    leaf_rotation=90.,  # rotates the x axis labels\n",
    "    leaf_font_size=8.,  # font size for the x axis labels\n",
    ")\n",
    "plt.show()"
   ]
  },
  {
   "cell_type": "code",
   "execution_count": 35,
   "metadata": {
    "collapsed": false
   },
   "outputs": [
    {
     "data": {
      "text/plain": [
       "<matplotlib.legend.Legend at 0x12e8002d0>"
      ]
     },
     "execution_count": 35,
     "metadata": {},
     "output_type": "execute_result"
    },
    {
     "data": {
      "image/png": "[encoded data removed]",
      "text/plain": [
       "<matplotlib.figure.Figure at 0x12db76b90>"
      ]
     },
     "metadata": {},
     "output_type": "display_data"
    }
   ],
   "source": [
    "cats = {}\n",
    "for x in pd.Series(clusters).value_counts().index.tolist():\n",
    "    cats[x] = getColor()\n",
    "\n",
    "pca_df['colors'] = [cats[x] for x in clusters]\n",
    "plt.scatter(pca_df['x'], pca_df['y'], s=120, c=pca_df['colors'], label=str('label'))\n",
    "plt.legend()"
   ]
  },
  {
   "cell_type": "code",
   "execution_count": 36,
   "metadata": {
    "collapsed": false
   },
   "outputs": [
    {
     "name": "stdout",
     "output_type": "stream",
     "text": [
      "            authors   categories                              title  \\\n",
      "0              None  Agriculture                     The Plantation   \n",
      "1      Abigail Roux      Fiction                       Ball & Chain   \n",
      "2    Adite Banerjie      Fiction  The Indian Tycoon's Marriage Deal   \n",
      "3  Aharon Appelfeld      Fiction                     Suddenly, Love   \n",
      "4  Alan Dean Foster      Fiction                  The Force Awakens   \n",
      "\n",
      "                                               files  cluster  \n",
      "0          A M Hartnett, Carried Away - The Deep End        6  \n",
      "1                         Abigail Roux, Ball & Chain        5  \n",
      "2  Adite Banerjie, The Indian Tycoon's Marriage Deal        6  \n",
      "3                   Aharon Appelfeld, Suddenly, Love        4  \n",
      "4         Alan Foster, Star Wars - The Force Awakens        4  \n"
     ]
    }
   ],
   "source": [
    "meta_fiction_all = pd.DataFrame(g_meta_df)\n",
    "meta_fiction_all['cluster'] = [clusters[idx] for idx, x in meta_fiction_all.iterrows()]\n",
    "print meta_fiction_all.head()"
   ]
  },
  {
   "cell_type": "code",
   "execution_count": 37,
   "metadata": {
    "collapsed": false
   },
   "outputs": [
    {
     "name": "stdout",
     "output_type": "stream",
     "text": [
      "\n",
      "Category:  0\n",
      "Carolyn Keene :  Fatal Attraction  ( Juvenile Fiction )\n",
      "Carolyn Keene :  Curse of the Arctic Star  ( Juvenile Fiction )\n",
      "Carolyn Keene :  Curse of the Arctic Star  ( Juvenile Fiction )\n",
      "Carolyn Keene :  Curse of the Arctic Star  ( Juvenile Fiction )\n",
      "Carolyn Keene :  Curse of the Arctic Star  ( Juvenile Fiction )\n",
      "Carolyn Keene :  Curse of the Arctic Star  ( Juvenile Fiction )\n",
      "Carolyn Keene :  The Red Slippers  ( Juvenile Fiction )\n",
      "Carolyn Keene :  Strangers on a Train  ( Juvenile Fiction )\n",
      "\n",
      "Category:  1\n",
      "Brian Kilmeade, Don Yaeger :  Thomas Jefferson and the Tripoli Pirates  ( History )\n",
      "Christopher Simpson :  Blowback  ( History )\n",
      "Dan E. Moldea :  Interference  ( Sports & Recreation )\n",
      "Dave Barry :  Best. State. Ever.  ( Humor )\n",
      "Dave Barry :  Boogers Are My Beat  ( Humor )\n",
      "Dave Barry :  Boogers Are My Beat  ( Humor )\n",
      "Dave Barry :  Dave Barry's Complete Guide to Guys  ( Humor )\n",
      "Dave Barry :  Dave Barry's Complete Guide to Guys  ( Humor )\n",
      "Dave Barry :  Dave Barry Is Not Making This Up  ( Humor )\n",
      "Dave Barry :  Dave Barry Slept Here  ( Humor )\n",
      "Dave Barry :  Dave Barry Talks Back  ( Humor )\n",
      "Dave Barry :  Dave Barry's Only Travel Guide You'll Ever Need  ( Humor )\n",
      "Dave Barry :  Homes and Other Black Holes  ( Humor )\n",
      "Derek Bickerton :  Adam's Tongue  ( Science )\n",
      "Peter Stark :  Astoria  ( History )\n",
      "Joyce Tyldesley :  Daughters of Isis  ( History )\n",
      "Joyce Tyldesley :  Daughters of Isis  ( History )\n",
      "Margot Lee Shetterly :  Hidden Figures  ( None )\n",
      "Ron Chernow :  Alexander Hamilton  ( Biography & Autobiography )\n",
      "Steven D. Levitt, Stephen J. Dubner :  Think Like a Freak  ( Business & Economics )\n",
      "Steven Weinberg :  To Explain the World  ( Science )\n",
      "Yuval Noah Harari :  Sapiens  ( Science )\n",
      "\n",
      "Category:  2\n",
      "Andrew Smith :  Winger  ( Juvenile Fiction )\n",
      "None :  Motorcycle Illustrated  ( Motorcycles )\n",
      "K.D. McCrite :  A Stony Point Christmas  ( None )\n",
      "Karen Kelly :  A Man of His Word  ( None )\n",
      "Karen Kelly :  Boxed in  ( Attics )\n",
      "\n",
      "Category:  3\n",
      "Aharon Appelfeld :  Suddenly, Love  ( Fiction )\n",
      "Alan Dean Foster :  The Force Awakens  ( Fiction )\n",
      "Alex Irvine :  Dawn of the Planet of the Apes: The Official Movie Novelization  ( Fiction )\n",
      "Alexia Purdy :  Amplified (Reign of Blood #3)  ( Fiction )\n",
      "Lindsay Townsend :  A Knight's Vow  ( Fiction )\n",
      "Ambrose Bierce :  Civil War Stories  ( Fiction )\n",
      "Andre Norton, Patricia Mathews, Sasha Miller :  On Wings of Magic  ( Fiction )\n",
      "Anna Schmidt :  A Sister's Forgiveness  ( Fiction )\n",
      "B. C. Burgess :  Descension  ( Fiction )\n",
      "Barbara Hall :  Tempo Change  ( Juvenile Fiction )\n",
      "Barbara Webb :  City of Burning Shadows  ( None )\n",
      "Barbara Trapido :  Frankie & Stankie  ( Fiction )\n",
      "Barry Strauss :  Masters of Command  ( History )\n",
      "Belinda Alexandra :  Sapphire Skies  ( Fiction )\n",
      "Ben Marcus :  Notable American Women  ( Fiction )\n",
      "Bill Wallace :  The Legend of Thunderfoot  ( Juvenile Fiction )\n",
      "Brian Herbert, Kevin J. Anderson :  Hellhole Inferno  ( Fiction )\n",
      "Captain Chesley B. Sullenberger, III, Jeffrey Zaslow :  Highest Duty  ( Biography & Autobiography )\n",
      "Carl Hiaasen :  Razor Girl  ( Fiction )\n",
      "Carol Goodman :  Blythewood  ( Young Adult Fiction )\n",
      "Cat Johnson :  Night with a SEAL  ( Fiction )\n",
      "Catherine Aird :  Amendment of Life  ( Fiction )\n",
      "Catherine Bybee :  Taken by Tuesday  ( Fiction )\n",
      "Catherine Hapka :  Maddie's Dream  ( Juvenile Fiction )\n",
      "Catherine MacPhail :  Dark Waters  ( Fiction )\n",
      "Chas Newkey-Burden :  Taylor Swift: The Whole Story  ( Biography & Autobiography )\n",
      "Chris Collett :  Blood Money  ( Fiction )\n",
      "Chris Collett :  Blood of the Innocents  ( Fiction )\n",
      "Chris Lynch :  World War II Book 1: The Right Fight  ( Juvenile Fiction )\n",
      "Chris Weitz :  The Young World  ( Young Adult Fiction )\n",
      "Christianna Brand :  Buffet for Unwelcome Guests  ( Fiction )\n",
      "Claire Zorn :  The Protected (Large Print 16pt)  ( Juvenile Fiction )\n",
      "Clare McNally :  Cries of the Children  ( Fiction )\n",
      "Coco Simon :  Katie Starting from Scratch  ( Juvenile Fiction )\n",
      "Colin Harper :  Dazzling Stranger  ( Music )\n",
      "Colson Whitehead :  The Underground Railroad  ( Fiction )\n",
      "Derrick Carew :  The Killer Trail  ( None )\n",
      "D. J. McCune :  The Mortal Knife  ( Juvenile Fiction )\n",
      "Daisy Meadows :  Rainbow Magic Special Edition: Belle the Birthday Fairy  ( Juvenile Fiction )\n",
      "Dan Davies :  In Plain Sight  ( Biography & Autobiography )\n",
      "Dan Decker :  Shadows of Bloodshed: Part One of War of the Fathers  ( Fiction )\n",
      "David Baldacci :  No Man's Land  ( Fiction )\n",
      "Don Pendleton :  Ballistic Force  ( Fiction )\n",
      "Don Pendleton :  Contagion Option  ( Fiction )\n",
      "Elizabeth Moon :  Crown of Renewal  ( Fiction )\n",
      "Fern Michaels :  A Family Affair  ( Fiction )\n",
      "Gary Shteyngart :  Absurdistan  ( Fiction )\n",
      "Jacqueline Carey :  Banewreaker  ( Fiction )\n",
      "James Patterson :  Cross Justice  ( Fiction )\n",
      "James Patterson :  Cross the Line  ( Fiction )\n",
      "James S. A. Corey :  Babylon's Ashes  ( Fiction )\n",
      "James Wade :  Collected Stories  ( None )\n",
      "Jennifer Ashley :  Guardian's Mate  ( Fiction )\n",
      "Jill Shalvis :  My Kind of Wonderful  ( Fiction )\n",
      "John Grisham :  Rogue Lawyer  ( Fiction )\n",
      "John Grisham :  The Whistler  ( Fiction )\n",
      "John E. Miller :  Becoming Laura Ingalls Wilder  ( Biography & Autobiography )\n",
      "John le Carré :  The Pigeon Tunnel  ( Biography & Autobiography )\n",
      "Jonathon Burgess :  Chasing the Lantern  ( Fiction )\n",
      "Joni Hahn :  Agent I1  ( Fiction )\n",
      "Kristin Hannah :  The Nightingale  ( Fiction )\n",
      "Statius :  Achilleid  ( Poetry )\n",
      "Lana Axe :  A Story of River  ( Fiction )\n",
      "Lee Child :  Night School  ( Fiction )\n",
      "Lisa Jensen :  Alias Hook  ( Fiction )\n",
      "Loren Coleman :  Age of Conan: Blood of Wolves  ( Fiction )\n",
      "Loren Coleman :  Age of Conan: Cimmerian Rage  ( Fiction )\n",
      "Michelle M. Pillow :  Portrait of His Obsession  ( Fiction )\n",
      "A. Corma, F.V. Melo, S. Mendioroz, J.L.G. Fierro :  12th International Congress on Catalysis  ( Technology & Engineering )\n",
      "Jamie McGuire :  Beautiful Disaster  ( Fiction )\n",
      "None :  MICRO-7  ( None )\n",
      "Michael Lewis :  The Big Short  ( Business & Economics )\n",
      "Michele Barrow-Bélisle :  Beautiful Babies  ( Crafts & Hobbies )\n",
      "Misty Evans :  Witches Anonymous  ( Fiction )\n",
      "Molly McGuire Woods :  Barbie and the Secret Door (Barbie and the Secret Door)  ( Juvenile Fiction )\n",
      "C. J. Cherryh :  Fortress in the Eye of Time  ( Fiction )\n",
      "Nancy Cowan :  Peregrine Spring  ( Nature )\n",
      "Nora Roberts :  Island of Glass  ( Fiction )\n",
      "Paul Bailey :  A Dog's Life  ( Biography & Autobiography )\n",
      "Pete Lockett :  A Survivor's Guide to Eternity  ( Fiction )\n",
      "R. D. Rosen :  Such Good Girls  ( Biography & Autobiography )\n",
      "Robert Cain :  Cybernarc  ( None )\n",
      "Robin Cook :  Acceptable Risk  ( Fiction )\n",
      "Robin Cook :  Brain  ( Fiction )\n",
      "Ron Carlson :  A Kind of Flying: Selected Stories  ( Fiction )\n",
      "Ron Carlson :  At the Jim Bridger  ( Fiction )\n",
      "Ron Carlson :  Betrayed by F. Scott Fitzgerald  ( Fiction )\n",
      "Karen Ross Epp :  With Love Stan  ( Biography & Autobiography )\n",
      "Mark Cooper :  Fledgling: Jason Steed  ( Juvenile Fiction )\n",
      "Rosalie Lario :  Call of the Siren  ( Fiction )\n",
      "Roy Jenkins :  Dilke  ( Biography & Autobiography )\n",
      "Ruth Ware :  The Woman in Cabin 10  ( Fiction )\n",
      "Sabrina Benulis :  Archon  ( Fiction )\n",
      "Scott Nicholson :  After: First Light  ( Fiction )\n",
      "Scott Nicholson :  After: The Echo  ( Fiction )\n",
      "Jim Zub :  Wayward #8  ( Comics & Graphic Novels )\n",
      "Stephen Booth :  Blind to the Bones  ( Fiction )\n",
      "T. T. MacDangereuse :  Epic Tales from Adventure Time: The Untamed Scoundrel  ( Juvenile Fiction )\n",
      "Ta-Nehisi Coates :  Between the World and Me  ( Biography & Autobiography )\n",
      "Tara Maya :  Conmergence  ( Fiction )\n",
      "Tom Rinaldi :  The Red Bandanna  ( Biography & Autobiography )\n",
      "Jay Robert Nash, Stanley Ralph Ross :  The Motion Picture Guide  ( Motion pictures )\n",
      "William Kienzle :  Assault with Intent  ( Fiction )\n",
      "\n",
      "Category:  4\n",
      "Abigail Roux :  Ball & Chain  ( Fiction )\n",
      "Alexander McCall Smith :  Fatty O'Leary's Dinner Party  ( Fiction )\n",
      "Alexander McCall Smith :  Sunshine on Scotland Street  ( Fiction )\n",
      "Amar'e Stoudemire, Tim Jessell :  Home Court  ( Juvenile Fiction )\n",
      "Andy Gavin :  Untimed  ( Fiction )\n",
      "Anna Godbersen :  Envy: A Luxe Novel  ( Juvenile Fiction )\n",
      "Franz Kafka :  The Metamorphosis  ( Fiction )\n",
      "April Henry :  The Body in the Woods  ( Young Adult Fiction )\n",
      "Barbara Delinsky :  Warm Hearts  ( Fiction )\n",
      "Barbara Steiner :  The Calling  ( Young Adult Fiction )\n",
      "Barbara Steiner :  The Dance  ( Young Adult Fiction )\n",
      "Barbara Steiner :  The gallery  ( Fiction )\n",
      "Barbara Steiner :  The Photographer II  ( Young Adult Fiction )\n",
      "Barbara Steiner :  The Photographer II  ( Young Adult Fiction )\n",
      "Barbara Trapido :  Temples of Delight  ( Fiction )\n",
      "bell hooks :  When Angels Speak of Love  ( Poetry )\n",
      "Bernadette Marie :  The Executive's Decision  ( None )\n",
      "Bernadette Marie :  The Executive's Decision  ( None )\n",
      "Bernadette Marie :  The Acceptance  ( Brothers and sisters )\n",
      "Bill Crider :  Half in Love with Artful Death  ( Fiction )\n",
      "Bill Wallace :  Skinny-Dipping at Monster Lake  ( Juvenile Fiction )\n",
      "Brinda Berry :  Chasing Luck  ( Fiction )\n",
      "Brock Cole :  The Goats  ( Young Adult Fiction )\n",
      "Brooklyn Ann :  Bite Me, Your Grace  ( Fiction )\n",
      "Camille Elliot :  Prelude for a Lord  ( Fiction )\n",
      "Carolyn Keene :  Secret at Mystic Lake  ( Juvenile Fiction )\n",
      "Cat Clarke :  A Kiss in the Dark  ( First loves )\n",
      "Cathy MacPhail :  Bad Company  ( Juvenile Fiction )\n",
      "Charise Mericle Harper :  Alien Encounter  ( Juvenile Fiction )\n",
      "Charlotte Carter :  Montana Wrangler  ( Fiction )\n",
      "Chloe Taylor :  Lights, Camera, Fashion!  ( Juvenile Fiction )\n",
      "Chris Lynch :  Vietnam #4: Casualties of War  ( Juvenile Fiction )\n",
      "Chris Lynch :  Vietnam #3: Free-Fire Zone  ( Juvenile Fiction )\n",
      "Chris Lynch :  I Pledge Allegiance  ( Juvenile Fiction )\n",
      "Clare Mackintosh :  I Let You Go  ( Fiction )\n",
      "Crystal Green :  Rough and Tumble  ( Fiction )\n",
      "D.C. Ruins :  Dances with Monsters  ( None )\n",
      "Daniel James Brown :  The Boys in the Boat  ( Sports & Recreation )\n",
      "Darrien Lee :  Denim Diaries 6: Lying to Live  ( Fiction )\n",
      "Darrien Lee :  Precious Stones  ( Fiction )\n",
      "David Baldacci :  The Guilty  ( Adult children )\n",
      "Denise Hunter :  Dancing with Fireflies  ( Fiction )\n",
      "Erika Ashby :  Brokenness: a Broken Wings Companion Novel  ( None )\n",
      "J.D. Robb :  Apprentice in Death  ( Fiction )\n",
      "J. A. Jance :  Downfall  ( Fiction )\n",
      "James Patterson :  113 Minutes  ( Fiction )\n",
      "Jo Bannister :  Changelings  ( Fiction )\n",
      "Joan Lowery Nixon :  The Orphan Train Adventures  ( Juvenile Fiction )\n",
      "Joya Ryan :  Breathe You in  ( Fiction )\n",
      "Katy Evans :  Womanizer  ( Fiction )\n",
      "Lauren Layne :  Someone Like You  ( Fiction )\n",
      "Stan Jones, Brenna B. Jones, Joel Spector :  The Story of Me  ( Religion )\n",
      "Lisa Cardiff :  Redeeming You  ( Fiction )\n",
      "Mimi Strong :  Blue Roses: A Baker Street Romance  ( Fiction )\n",
      "Nicole Bradshaw :  Champagne Life  ( Fiction )\n",
      "Paula Hawkins :  The Girl on the Train  ( Fiction )\n",
      "R.L. Stine :  Silent Night 3  ( Juvenile Fiction )\n",
      "R. Chetwynd-Hayes :  Collected Stories  ( None )\n",
      "Richard Matheson :  The Box  ( Fiction )\n",
      "Camila Batmanghelidjh :  Shattered Lives  ( Social Science )\n",
      "Sandra Brown :  Sting  ( Fiction )\n",
      "Tiffany Truitt :  Creators  ( Juvenile Fiction )\n",
      "Veronica Chambers :  Amigas: Fifteen Candles  ( Juvenile Fiction )\n",
      "\n",
      "Category:  5\n",
      "None :  The Plantation  ( Agriculture )\n",
      "Adite Banerjie :  The Indian Tycoon's Marriage Deal  ( Fiction )\n",
      "Alannah Carbonneau :  The Curse of Bound Blood  ( Fiction )\n",
      "Alannah Carbonneau :  The Curse of Bound Blood  ( Fiction )\n",
      "Alannah Carbonneau :  The Curse of Bound Blood  ( Fiction )\n",
      "Alexandra Christian :  One Hundred Strokes  ( Fiction )\n",
      "Allyson K Abbott :  Murder with a Twist  ( Fiction )\n",
      "Sam Crescent :  Bound to Be Mated [Rock Wood Pack]  ( None )\n",
      "Robyn Donald :  Ruthless Billionaire, Inexperienced Mistress  ( Fiction )\n",
      "Amanda Forester :  The Trouble with a Highland Bride  ( Fiction )\n",
      "Amanda Grace :  The Truth About You & Me  ( Young Adult Fiction )\n",
      "Amelie Sarn :  I Love I Hate I Miss My Sister  ( None )\n",
      "Amy Schumer :  The Girl with the Lower Back Tattoo  ( Biography & Autobiography )\n",
      "Andi Dorfman :  It's Not Okay  ( Biography & Autobiography )\n",
      "ANU E Press, Hugh Laracy :  Watriama and Co  ( Biography & Autobiography )\n",
      "ANU E Press, Hugh Laracy :  Watriama and Co  ( Biography & Autobiography )\n",
      "Ruth Cardello :  Always Mine  ( Fiction )\n",
      "Ruth Cardello :  Always Mine  ( Fiction )\n",
      "Arlene Kay :  Swann Dive  ( Fiction )\n",
      "Ben Mikaelsen :  Jungle of Bones  ( Juvenile Fiction )\n",
      "Beth Pattillo :  The Sweetgum Knit Lit Society  ( Fiction )\n",
      "Bill Pronzini :  Nemesis  ( Fiction )\n",
      "Bobby Womack :  Bobby Womack  ( Biography & Autobiography )\n",
      "Brenda Rothert :  Drawn Deeper  ( Fiction )\n",
      "Brooks Brown, Rob Merritt :  No Easy Answers  ( True Crime )\n",
      "Jamaica Kincaid :  Lucy  ( Fiction )\n",
      "C. J. Fallowfield, Book Cover by Design, Ella Marie :  Destined (the Austin Series Prequel)  ( Fiction )\n",
      "Michael Mandiberg :  The Social Media Reader  ( Computers )\n",
      "Cari Silverwood :  The Squirm Files  ( None )\n",
      "Cari Silverwood :  The Squirm Files  ( None )\n",
      "Carly Simon :  Boys in the Trees  ( Biography & Autobiography )\n",
      "Catherine Lanigan :  Love Shadows  ( Fiction )\n",
      "None :  The Advocate  ( None )\n",
      "Cynthia Kimball :  Your Dimension Or Mine?  ( Fiction )\n",
      "Delilah Devlin :  Cowboy Heat  ( Fiction )\n",
      "Kresley Cole :  Endless Knight  ( Juvenile Fiction )\n",
      "Wanda E. Brunstetter :  Going Home  ( Fiction )\n",
      "Glennon Doyle Melton :  Carry On, Warrior  ( Biography & Autobiography )\n",
      "Glennon Doyle Melton :  Love Warrior  ( Biography & Autobiography )\n",
      "J. D. Vance :  Hillbilly Elegy  ( Social Science )\n",
      "J.R. Ward :  Blood Vow  ( Fiction )\n",
      "Jack Canfield, Mark Victor Hansen :  Chicken Soup for the Teenage Soul The Real Deal School  ( Self-Help )\n",
      "James Hayman :  The Chill of Night  ( Fiction )\n",
      "Jenna Miscavige Hill, Lisa Pulitzer :  Beyond Belief  ( Religion )\n",
      "Jodi Ellen Malpas :  The Protector--FREE PREVIEW (FIRST 7 CHAPTERS)  ( Fiction )\n",
      "K. A. Tucker :  Anathema  ( Juvenile Fiction )\n",
      "Orson Scott Card :  Enchantment  ( Fiction )\n",
      "Katherine Kingston :  Binding Passion  ( Fiction )\n",
      "Katherine Kingston :  Daring Passion  ( Fiction )\n",
      "Katherine Kingston :  Healing Passion  ( Fiction )\n",
      "Kathrine Kingston :  Passions  ( Fiction )\n",
      "Kristen Middleton :  Dark Realms (Six Tales of Dark Fantasy, Paranormal Romance, Urban Fantasy & Horror))  ( Fiction )\n",
      "Leah Remini, Rebecca Paley :  Troublemaker  ( Biography & Autobiography )\n",
      "None :  Fantasy Review  ( Fantasy fiction )\n",
      "Liane Moriarty :  Truly Madly Guilty  ( Fiction )\n",
      "None :  The New York Times Book Review  ( Books )\n",
      "M. L. Smith :  Beautifully Irresistible  ( None )\n",
      "M.L. Stedman :  The Light Between Oceans  ( Fiction )\n",
      "Mark Greaney :  Tom Clancy True Faith and Allegiance  ( Fiction )\n",
      "Marla Monroe :  Bound by Their Kisses [Knights in Black Leather 4] (Siren Publishing Menage Everlasting)  ( None )\n",
      "Marlo Peterson :  Come Away With Me: Vol.2 (Interracial BW/WM Erotic Romance)  ( Fiction )\n",
      "Nicky Charles :  For the Good of All  ( Fiction )\n",
      "Patricia Cornwell :  Depraved Heart  ( Fiction )\n",
      "Paul Kalanithi :  When Breath Becomes Air  ( Biography & Autobiography )\n",
      "R.L. Stine :  The Boy Who Ate Fear Street  ( Juvenile Fiction )\n",
      "Rose Kent :  Kimchi & Calamari  ( Juvenile Fiction )\n",
      "Tijan :  Anti-Stepbrother  ( Fiction )\n"
     ]
    }
   ],
   "source": [
    "for x in range(np.amax(meta_fiction_all[\"cluster\"].value_counts().index.tolist())):\n",
    "    print \"\\nCategory: \", x\n",
    "    relevant = meta_fiction_all[meta_fiction_all[\"cluster\"] == x + 1]\n",
    "    for idx, y in relevant.iterrows():\n",
    "        print y[\"authors\"] , \": \" , y[\"title\"], \" (\", y[\"categories\"],\")\""
   ]
  },
  {
   "cell_type": "code",
   "execution_count": 38,
   "metadata": {
    "collapsed": false
   },
   "outputs": [],
   "source": [
    "all_metrics_sim = pd.DataFrame(analyzeCoSim(all_metrics))\n",
    "norm_all_metrics = all_metrics_sim"
   ]
  },
  {
   "cell_type": "code",
   "execution_count": 42,
   "metadata": {
    "collapsed": false
   },
   "outputs": [
    {
     "name": "stdout",
     "output_type": "stream",
     "text": [
      "Closest in global cluster\n",
      "Book: Beth Pattillo, Sweetgum - The Sweetgum Knit Lit Society\n",
      "2:109 - Claire Zorn, The Protected (Large Print 16pt) (0.65)\n",
      "3:74 - Carl Hiaasen, Razor Girl (0.62)\n",
      "4:105 - Chris Lynch, World War II Book 1: The Right Fight (0.6)\n",
      "7:263 - Tom Rinaldi, The Red Bandanna (0.54)\n",
      "11:149 - Fern Michaels, A Family Affair (0.53)\n",
      "13:217 - Michele Barrow-Bélisle, Beautiful Babies (0.53)\n",
      "15:227 - Paul Bailey, A Dog's Life (0.53)\n",
      "17:240 - Ron Carlson, A Kind of Flying: Selected Stories (0.53)\n",
      "18:241 - Ron Carlson, At the Jim Bridger (0.53)\n",
      "19:161 - James Patterson, Cross Justice (0.52)\n",
      "\n",
      "Closest outside global cluster\n",
      "Book: Beth Pattillo, Sweetgum - The Sweetgum Knit Lit Society\n",
      "1:208 - M.L. Stedman, The Light Between Oceans (0.66)\n",
      "5:157 - Jack Canfield, Mark Victor Hansen, Chicken Soup for the Teenage Soul The Real Deal School (0.55)\n",
      "6:56 - Bill Pronzini, Nemesis (0.54)\n",
      "8:22 - Amy Schumer, The Girl with the Lower Back Tattoo (0.53)\n",
      "9:196 - Leah Remini, Rebecca Paley, Troublemaker (0.53)\n",
      "10:154 - J. D. Vance, Hillbilly Elegy (0.53)\n",
      "12:2 - Adite Banerjie, The Indian Tycoon's Marriage Deal (0.53)\n",
      "14:34 - Arlene Kay, Swann Dive (0.53)\n",
      "16:119 - , Motorcycle Illustrated (0.53)\n",
      "21:228 - Paul Kalanithi, When Breath Becomes Air (0.52)\n"
     ]
    }
   ],
   "source": [
    "# Determine the closest for all books in cluster\n",
    "# b) out of cluster\n",
    "# Determine the closest for books in genre in cluster\n",
    "# b) out of cluster\n",
    "\n",
    "meta_fiction_all.iloc[74,:][\"cluster\"]\n",
    "incluster = [idx for idx,x in meta_fiction_all.iterrows() if x[\"cluster\"] == meta_fiction_all.iloc[74,:][\"cluster\"]]\n",
    "\n",
    "def determineCloseness(pos, data, spots, incluster, reverse):\n",
    "    datay = data.sort([pos],ascending=[0]).index\n",
    "    print \"Book: \" + getFilename(getBooks()[pos].replace(\"(analysis)\",\"\"))\n",
    "    matches = []\n",
    "    for idx, x in enumerate(datay):\n",
    "        if (x != pos and ((not reverse and x in incluster) or (reverse and x not in incluster))):\n",
    "            result = str(idx) + \":\" + str(x) + \" - \"\n",
    "            if \"authors\" in meta_fiction_all.iloc[x,:] and meta_fiction_all.iloc[x,:][\"authors\"] is not None:\n",
    "                result += meta_fiction_all.iloc[x,:][\"authors\"]\n",
    "            if \"title\" in meta_fiction_all.iloc[x,:] and meta_fiction_all.iloc[x,:][\"title\"] is not None:\n",
    "                result += \", \" + meta_fiction_all.iloc[x,:][\"title\"]\n",
    "            result += \" (\" + str(round(data[pos][x],2)) + \")\"\n",
    "            matches += [result]\n",
    "        if len(matches) >= spots:\n",
    "            return matches\n",
    "    return matches\n",
    "\n",
    "def printList(listy):\n",
    "    for x in listy:\n",
    "        print x\n",
    " \n",
    "print \"Closest in global cluster\"\n",
    "printList(determineCloseness(54, norm_all_metrics, 10, incluster, False))\n",
    "print \"\\nClosest outside global cluster\"\n",
    "printList(determineCloseness(54, norm_all_metrics, 10, incluster, True))"
   ]
  },
  {
   "cell_type": "code",
   "execution_count": 40,
   "metadata": {
    "collapsed": true
   },
   "outputs": [],
   "source": [
    "def findMatchCluster(pos):\n",
    "    meta_fiction_all = pd.DataFrame(g_meta_df)\n",
    "    meta_fiction_all['cluster'] = [clusters[idx] for idx, x in meta_fiction_all.iterrows()]\n",
    "    print meta_fiction_all.head()\n",
    "    meta_fiction_all.iloc[74,:][\"cluster\"]"
   ]
  },
  {
   "cell_type": "code",
   "execution_count": 41,
   "metadata": {
    "collapsed": false
   },
   "outputs": [
    {
     "ename": "NameError",
     "evalue": "name 'returnNormCS' is not defined",
     "output_type": "error",
     "traceback": [
      "\u001b[0;31m---------------------------------------------------------------------------\u001b[0m",
      "\u001b[0;31mNameError\u001b[0m                                 Traceback (most recent call last)",
      "\u001b[0;32m<ipython-input-41-edd9879ba8a9>\u001b[0m in \u001b[0;36m<module>\u001b[0;34m()\u001b[0m\n\u001b[1;32m      3\u001b[0m \u001b[0;34m\u001b[0m\u001b[0m\n\u001b[1;32m      4\u001b[0m \u001b[0mall_metrics_sim\u001b[0m \u001b[0;34m=\u001b[0m \u001b[0mpd\u001b[0m\u001b[0;34m.\u001b[0m\u001b[0mDataFrame\u001b[0m\u001b[0;34m(\u001b[0m\u001b[0manalyzeCoSim\u001b[0m\u001b[0;34m(\u001b[0m\u001b[0mall_metrics\u001b[0m\u001b[0;34m[\u001b[0m\u001b[0mincluster\u001b[0m\u001b[0;34m]\u001b[0m\u001b[0;34m)\u001b[0m\u001b[0;34m)\u001b[0m\u001b[0;34m\u001b[0m\u001b[0m\n\u001b[0;32m----> 5\u001b[0;31m \u001b[0mnorm_all_metrics\u001b[0m \u001b[0;34m=\u001b[0m \u001b[0mreturnNormCS\u001b[0m\u001b[0;34m(\u001b[0m\u001b[0mall_metrics_sim\u001b[0m\u001b[0;34m)\u001b[0m\u001b[0;34m\u001b[0m\u001b[0m\n\u001b[0m\u001b[1;32m      6\u001b[0m \u001b[0;34m\u001b[0m\u001b[0m\n\u001b[1;32m      7\u001b[0m \u001b[0;32mdef\u001b[0m \u001b[0mdetermineCloseness\u001b[0m\u001b[0;34m(\u001b[0m\u001b[0mpos\u001b[0m\u001b[0;34m,\u001b[0m \u001b[0mdata\u001b[0m\u001b[0;34m,\u001b[0m \u001b[0mspots\u001b[0m\u001b[0;34m)\u001b[0m\u001b[0;34m:\u001b[0m\u001b[0;34m\u001b[0m\u001b[0m\n",
      "\u001b[0;31mNameError\u001b[0m: name 'returnNormCS' is not defined"
     ]
    }
   ],
   "source": [
    "incluster = [idx for idx,x in meta_fiction_all.iterrows() if x[\"cluster\"] == meta_fiction_all.iloc[74,:][\"cluster\"]]\n",
    "meta_fiction_this = meta_fiction_all.iloc[incluster]\n",
    "\n",
    "all_metrics_sim = pd.DataFrame(analyzeCoSim(all_metrics[incluster]))\n",
    "norm_all_metrics = returnNormCS(all_metrics_sim)\n",
    "\n",
    "def determineCloseness(pos, data, spots):\n",
    "    datay = data.sort([pos],ascending=[0]).index\n",
    "    print pos\n",
    "    print datay\n",
    "    print \"Book: \" + getFilename(getBooks()[pos].replace(\"(analysis)\",\"\"))\n",
    "    for idx, x in enumerate(datay[:spots]):\n",
    "        if (x != pos):\n",
    "            print str(idx) + \":\" + str(x) + \" - \"+ meta_fiction_this.iloc[x,:][\"authors\"] + \", \" + meta_fiction_this.iloc[x,:][\"title\"]+ \" (\" + str(round(data[pos][x],2)) + \")\"\n",
    " \n",
    "print \"Closest in global cluster\"\n",
    "#print norm_all_metrics.iloc[15]\n",
    "print meta_fiction_this.iloc[1]\n",
    "determineCloseness(15, norm_all_metrics, 10)\n",
    "# print \"\\nClosest outside global cluster\"\n",
    "# determineCloseness(74, norm_all_metrics, 25, incluster, True)"
   ]
  },
  {
   "cell_type": "markdown",
   "metadata": {},
   "source": [
    "## This is the evaluation for all the fiction books"
   ]
  },
  {
   "cell_type": "code",
   "execution_count": null,
   "metadata": {
    "collapsed": false
   },
   "outputs": [],
   "source": [
    "indices = g_meta_df.ix[(g_meta_df['categories']==top)].index.tolist()\n",
    "pca = PCA(n_components=2)\n",
    "#pca_fiction = pca.fit_transform(df_words.iloc[indices,:])\n",
    "pca_fiction = pca.fit_transform(analyzeVectorizer(pullTerm(datum,'words'), .7, .05).toarray()[indices,:])"
   ]
  },
  {
   "cell_type": "code",
   "execution_count": null,
   "metadata": {
    "collapsed": false
   },
   "outputs": [],
   "source": [
    "pca_df = pd.DataFrame(pca_fiction, columns=['x','y'])\n",
    "plt.scatter(pca_df['x'], pca_df['y'], s=120, c='r', label=str('label'))\n",
    "plt.legend()"
   ]
  },
  {
   "cell_type": "code",
   "execution_count": null,
   "metadata": {
    "collapsed": false,
    "scrolled": true
   },
   "outputs": [],
   "source": [
    "vectorized_words = analyzeVectorizer(word_temp.iloc[indices,:][0], .7, .05)\n",
    "\n",
    "X = vectorized_words.todense()\n",
    "Z = linkage(X, 'ward')\n",
    "max_d = 1.6\n",
    "clusters = fcluster(Z, max_d, criterion='distance')\n",
    "#meta_fiction = fiction.reset_index()\n",
    "\n",
    "# for idx, x in meta_fiction.iterrows():\n",
    "#     print \"(\" + str(idx) + \",\" + str(clusters[idx]) + \") \" + x['authors'] + \": \" + x['title']\n",
    "    \n",
    "# r = lambda: random.randint(0,255)\n",
    "\n",
    "# def getColor():\n",
    "#     return '#%02X%02X%02X' % (r(),r(),r())\n",
    "\n",
    "cats = {}\n",
    "for x in pd.Series(clusters).value_counts().index.tolist():\n",
    "    cats[x] = getColor()\n",
    "\n",
    "pca_df['colors'] = [cats[x] for x in clusters]\n",
    "plt.scatter(pca_df['x'], pca_df['y'], s=120, c=pca_df['colors'], label=str('label'))\n",
    "plt.legend()"
   ]
  },
  {
   "cell_type": "markdown",
   "metadata": {},
   "source": [
    "## Now let's see if adding sentiment helps..."
   ]
  },
  {
   "cell_type": "code",
   "execution_count": null,
   "metadata": {
    "collapsed": false
   },
   "outputs": [],
   "source": [
    "vect_words = analyzeVectorizer(pullTerm(datum,'words'), .85, .05).toarray()[indices,:]\n",
    "vect_sentiment = analyzeVectorizerA(pullTerm(datum,'sentiment')).toarray()[indices,:]"
   ]
  },
  {
   "cell_type": "code",
   "execution_count": null,
   "metadata": {
    "collapsed": false
   },
   "outputs": [],
   "source": [
    "all_metrics = np.concatenate((vect_words, vect_sentiment), axis=1)\n",
    "pca_fiction = pca.fit_transform(all_metrics)"
   ]
  },
  {
   "cell_type": "code",
   "execution_count": null,
   "metadata": {
    "collapsed": false
   },
   "outputs": [],
   "source": [
    "pca_df = pd.DataFrame(pca_fiction, columns=['x','y'])\n",
    "plt.scatter(pca_df['x'], pca_df['y'], s=120, c='r', label=str('label'))\n",
    "plt.legend()"
   ]
  },
  {
   "cell_type": "code",
   "execution_count": null,
   "metadata": {
    "collapsed": false
   },
   "outputs": [],
   "source": [
    "X = all_metrics\n",
    "Z = linkage(X, 'ward')\n",
    "max_d = 1.7\n",
    "clusters = fcluster(Z, max_d, criterion='distance')\n",
    "\n",
    "plt.figure(figsize=(25, 10))\n",
    "plt.title('Hierarchical Clustering Dendrogram')\n",
    "plt.xlabel('sample index')\n",
    "plt.ylabel('distance')\n",
    "dendrogram(\n",
    "    Z,\n",
    "    leaf_rotation=90.,  # rotates the x axis labels\n",
    "    leaf_font_size=8.,  # font size for the x axis labels\n",
    ")\n",
    "plt.show()"
   ]
  },
  {
   "cell_type": "code",
   "execution_count": null,
   "metadata": {
    "collapsed": false
   },
   "outputs": [],
   "source": [
    "cats = {}\n",
    "for x in pd.Series(clusters).value_counts().index.tolist():\n",
    "    cats[x] = getColor()\n",
    "\n",
    "pca_df['colors'] = [cats[x] for x in clusters]\n",
    "plt.scatter(pca_df['x'], pca_df['y'], s=120, c=pca_df['colors'], label=str('label'))\n",
    "plt.legend()"
   ]
  },
  {
   "cell_type": "code",
   "execution_count": null,
   "metadata": {
    "collapsed": false
   },
   "outputs": [],
   "source": [
    "meta_fiction = g_meta_df.iloc[indices,:].reset_index()\n",
    "for idx, x in meta_fiction.iterrows():\n",
    "    print \"[\", clusters[idx] , \"] \", x['authors'] + \": \" + x['title'] , \"(\" , round(pca_df.iloc[idx]['x'],2) , \",\" , round(pca_df.iloc[idx]['y'],2) , \")\""
   ]
  },
  {
   "cell_type": "markdown",
   "metadata": {},
   "source": [
    "## PCA and clustering"
   ]
  },
  {
   "cell_type": "code",
   "execution_count": null,
   "metadata": {
    "collapsed": false
   },
   "outputs": [],
   "source": [
    "indices = g_meta_df.ix[(g_meta_df['categories']==top)].index.tolist()\n",
    "word_temp = pd.DataFrame(pullTerm(datum,'words'))\n",
    "vectorized_words = analyzeVectorizer(word_temp.iloc[indices,:][0], .7, .05)"
   ]
  },
  {
   "cell_type": "code",
   "execution_count": null,
   "metadata": {
    "collapsed": false
   },
   "outputs": [],
   "source": [
    "meta_fiction = fiction.reset_index()\n",
    "for idx, x in meta_fiction.iterrows():\n",
    "    print x['authors'] + \": \" + x['title'] \n",
    "    print \"(\" , round(pca_df.iloc[idx]['x'],2) , \",\" , round(pca_df.iloc[idx]['y'],2) , \")\""
   ]
  },
  {
   "cell_type": "code",
   "execution_count": null,
   "metadata": {
    "collapsed": false
   },
   "outputs": [],
   "source": [
    "X = vectorized_words.todense()\n",
    "Z = linkage(X, 'ward')\n",
    "c, coph_dists = cophenet(Z, pdist(X))\n",
    "c"
   ]
  },
  {
   "cell_type": "code",
   "execution_count": null,
   "metadata": {
    "collapsed": false
   },
   "outputs": [],
   "source": [
    "plt.figure(figsize=(25, 10))\n",
    "plt.title('Hierarchical Clustering Dendrogram')\n",
    "plt.xlabel('sample index')\n",
    "plt.ylabel('distance')\n",
    "dendrogram(\n",
    "    Z,\n",
    "    leaf_rotation=90.,  # rotates the x axis labels\n",
    "    leaf_font_size=8.,  # font size for the x axis labels\n",
    ")\n",
    "plt.show()"
   ]
  },
  {
   "cell_type": "code",
   "execution_count": null,
   "metadata": {
    "collapsed": false
   },
   "outputs": [],
   "source": [
    "max_d = 1.6\n",
    "clusters = fcluster(Z, max_d, criterion='distance')\n",
    "for idx, x in meta_fiction.iterrows():\n",
    "    print \"(\" + str(idx) + \",\" + str(clusters[idx]) + \") \" + x['authors'] + \": \" + x['title']"
   ]
  },
  {
   "cell_type": "code",
   "execution_count": null,
   "metadata": {
    "collapsed": true
   },
   "outputs": [],
   "source": [
    "X = book1_finished.drop('cat',axis=1)\n",
    "\n",
    "X = analyzeVectorizer(bag, max_df, min_df)\n",
    "\n",
    "pca = PCA(n_components=2)\n",
    "pca1 = pca.fit_transform(X)\n",
    "\n",
    "X = book2_finished.drop('cat',axis=1)\n",
    "pca2 = pca.fit_transform(X)\n",
    "X = book3_finished.drop('cat',axis=1)\n",
    "pca3 = pca.fit_transform(X)\n",
    "\n"
   ]
  },
  {
   "cell_type": "code",
   "execution_count": null,
   "metadata": {
    "collapsed": false
   },
   "outputs": [],
   "source": [
    "#weights = [96,0,2,2]\n",
    "weights = [6,1,4]\n",
    "df_all = ((norm_cs_words * weights[0]) + (norm_cs_sentiment * weights[1]) + (norm_cs_meta * weights[2])) / np.sum(weights)  "
   ]
  },
  {
   "cell_type": "code",
   "execution_count": null,
   "metadata": {
    "collapsed": false
   },
   "outputs": [],
   "source": [
    "def determineCloseness(pos, data, spots):\n",
    "    datay = data.sort([pos],ascending=[0]).index\n",
    "    print \"Book: \" + getFilename(getBooks()[pos].replace(\"(analysis)\",\"\"))\n",
    "    for idx, x in enumerate(datay[:spots]):\n",
    "        if (x != pos):\n",
    "            print str(idx) + \":\" + str(x) + \" - \"+ getFilename(getBooks()[x].replace(\"(analysis)\",\"\")) + \" (\" + str(round(data[pos][x],2)) + \")\"\n",
    "        \n",
    "determineCloseness(74, df_all, 15)"
   ]
  },
  {
   "cell_type": "code",
   "execution_count": null,
   "metadata": {
    "collapsed": true
   },
   "outputs": [],
   "source": [
    "# from __future__ import division, unicode_literals\n",
    "# import math\n",
    "\n",
    "# def tf(word, blob):\n",
    "#     return blob.words.count(word) / len(blob.words)\n",
    "\n",
    "# def n_containing(word, bloblist):\n",
    "#     return sum(1 for blob in bloblist if word in blob.words)\n",
    "\n",
    "# def idf(word, bloblist):\n",
    "#     return math.log(len(bloblist) / (1 + n_containing(word, bloblist)))\n",
    "\n",
    "# def tfidf(word, blob, bloblist):\n",
    "#     return tf(word, blob) * idf(word, bloblist)"
   ]
  },
  {
   "cell_type": "code",
   "execution_count": null,
   "metadata": {
    "collapsed": false
   },
   "outputs": [],
   "source": [
    "left = pullTerm([datum[42]],'words')[0]\n",
    "right = pullTerm([datum[74]],'words')[0]\n",
    "bloblist = [left,right]\n",
    "\n",
    "tfidf_vectorizer = TfidfVectorizer(max_features=10)\n",
    "matrix = tfidf_vectorizer.fit_transform(bloblist)\n",
    "top_features = tfidf_vectorizer.vocabulary_\n",
    "n = len(top_features)\n",
    "print top_features\n",
    "\n",
    "# insert the emoticons into the vocabulary of common features\n",
    "#emoticons = {\":)\":0, \":P\":1, \":(\":2)}\n",
    "#for feature, index in emoticons.items():\n",
    "#    top_features[feature] = n + index\n",
    "\n",
    "# re-vectorize using both sets of features\n",
    "# at this point len(top_features) == 13\n",
    "#vect = TfidfVectorizer(vocabulary=top_features)\n",
    "#matrix = vect.fit_transform(traindata)"
   ]
  },
  {
   "cell_type": "code",
   "execution_count": null,
   "metadata": {
    "collapsed": false
   },
   "outputs": [],
   "source": [
    "#Find the most frequently occuring word in the first file that is also present in all the other documents\n",
    "from sklearn.feature_extraction import text \n",
    "\n",
    "my_stops = ['said','just','did','going','wa','let']\n",
    "\n",
    "stop_words = text.ENGLISH_STOP_WORDS.union(my_stops)\n",
    "\n",
    "left = pullTerm(datum[70:75],'words')\n",
    "lectures = left\n",
    "vectorizer = TfidfVectorizer(stop_words=stop_words)\n",
    "X = vectorizer.fit_transform(lectures)\n",
    "indices = np.argsort(vectorizer.idf_)\n",
    "# print len(indices)\n",
    "features = vectorizer.get_feature_names()\n",
    "top_n = 100\n",
    "top_features = [(features[i],vectorizer.idf_[i]) for i in indices[:top_n]]\n",
    "# print top_features"
   ]
  },
  {
   "cell_type": "code",
   "execution_count": null,
   "metadata": {
    "collapsed": false
   },
   "outputs": [],
   "source": [
    "import operator\n",
    "\n",
    "check = TextBlob(pullTerm([datum[74]],'words')[0])\n",
    "x = check.word_counts\n",
    "sorted_x = sorted(x.items(), key=operator.itemgetter(1))[::-1]\n",
    "\n",
    "joined_features = [features[i] for i in indices if vectorizer.idf_[i] == 1]\n",
    "top = []\n",
    "maxTop = 50\n",
    "\n",
    "for x in sorted_x:\n",
    "    if x[0] in joined_features:\n",
    "        top += [x]\n",
    "    if len(top) > maxTop:\n",
    "        break\n",
    "\n",
    "print top\n",
    "# for x in top_features:\n",
    "#     print check."
   ]
  },
  {
   "cell_type": "code",
   "execution_count": null,
   "metadata": {
    "collapsed": false
   },
   "outputs": [],
   "source": [
    "for x in pullTerm(datum[40:43],'words'):\n",
    "    check = TextBlob(x)\n",
    "    print check.words.count('like')"
   ]
  },
  {
   "cell_type": "code",
   "execution_count": null,
   "metadata": {
    "collapsed": false
   },
   "outputs": [],
   "source": [
    "test = pullTerm([datum[74]],'words')[0]\n",
    "\n",
    "vectorizer2 = TfidfVectorizer(stop_words=stop_words)\n",
    "X = vectorizer2.fit_transform([test])\n",
    "indices = np.argsort(vectorizer.idf_)[::-1]\n",
    "# print len(indices)\n",
    "features = vectorizer.get_feature_names()\n",
    "top_n = 50\n",
    "top_features = [(features[i],vectorizer.idf_[i]) for i in indices[:top_n]]\n",
    "print top_features"
   ]
  },
  {
   "cell_type": "code",
   "execution_count": null,
   "metadata": {
    "collapsed": false,
    "scrolled": true
   },
   "outputs": [],
   "source": [
    "list = pd.DataFrame([getFilename(x.replace(\"(analysis)\",\"\")) for x in getBooks()], columns=[\"Name\"])"
   ]
  },
  {
   "cell_type": "code",
   "execution_count": null,
   "metadata": {
    "collapsed": false
   },
   "outputs": [],
   "source": [
    "def searchLibrary(search):\n",
    "    return list[list[\"Name\"].str.contains(search)]\n",
    "    \n",
    "print searchLibrary(\"Arabella Rose\")"
   ]
  },
  {
   "cell_type": "code",
   "execution_count": null,
   "metadata": {
    "collapsed": false
   },
   "outputs": [],
   "source": [
    "# df_all.ix[20:75,20:75]"
   ]
  },
  {
   "cell_type": "code",
   "execution_count": null,
   "metadata": {
    "collapsed": false
   },
   "outputs": [],
   "source": [
    "# df_words.ix[30:40,30:40]"
   ]
  },
  {
   "cell_type": "code",
   "execution_count": null,
   "metadata": {
    "collapsed": false
   },
   "outputs": [],
   "source": [
    "datum[74][\"meta\"]"
   ]
  },
  {
   "cell_type": "code",
   "execution_count": null,
   "metadata": {
    "collapsed": false
   },
   "outputs": [],
   "source": [
    "datum[125][\"meta\"]"
   ]
  },
  {
   "cell_type": "code",
   "execution_count": null,
   "metadata": {
    "collapsed": false
   },
   "outputs": [],
   "source": [
    "datum[4][\"meta\"]"
   ]
  },
  {
   "cell_type": "code",
   "execution_count": null,
   "metadata": {
    "collapsed": false
   },
   "outputs": [],
   "source": [
    "norm_cs_meta[74]"
   ]
  },
  {
   "cell_type": "code",
   "execution_count": null,
   "metadata": {
    "collapsed": true
   },
   "outputs": [],
   "source": []
  }
 ],
 "metadata": {
  "anaconda-cloud": {},
  "kernelspec": {
   "display_name": "Python [Root]",
   "language": "python",
   "name": "Python [Root]"
  },
  "language_info": {
   "codemirror_mode": {
    "name": "ipython",
    "version": 2
   },
   "file_extension": ".py",
   "mimetype": "text/x-python",
   "name": "python",
   "nbconvert_exporter": "python",
   "pygments_lexer": "ipython2",
   "version": "2.7.12"
  }
 },
 "nbformat": 4,
 "nbformat_minor": 0
}
