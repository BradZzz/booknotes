{
 "cells": [
  {
   "cell_type": "code",
   "execution_count": 97,
   "metadata": {
    "button": false,
    "collapsed": true,
    "deletable": true,
    "new_sheet": false,
    "run_control": {
     "read_only": false
    }
   },
   "outputs": [],
   "source": [
    "#EDA\n",
    "%matplotlib inline\n",
    "from textblob import TextBlob\n",
    "from sklearn.feature_extraction.text import TfidfVectorizer, CountVectorizer, TfidfTransformer\n",
    "import io\n",
    "import pandas as pd\n",
    "import numpy as np\n",
    "from matplotlib import pyplot as plt\n",
    "from scipy.cluster.hierarchy import dendrogram, linkage, cophenet\n",
    "from scipy.spatial.distance import pdist\n",
    "from textblob import TextBlob, Word\n",
    "import json\n",
    "import os\n",
    "from os.path import basename\n",
    "from sklearn import preprocessing\n",
    "from __future__ import division, unicode_literals\n",
    "from scipy.cluster.hierarchy import fcluster\n",
    "\n",
    "#Models\n",
    "from sklearn.neighbors import KNeighborsClassifier\n",
    "from sklearn.model_selection import train_test_split\n",
    "from sklearn.manifold import TSNE\n",
    "from sklearn.metrics.pairwise import cosine_similarity\n",
    "from sklearn.decomposition import PCA\n",
    "from sklearn.cluster import KMeans\n",
    "from sklearn.discriminant_analysis import LinearDiscriminantAnalysis\n",
    "\n",
    "#Misc\n",
    "import warnings\n",
    "warnings.filterwarnings('ignore')"
   ]
  },
  {
   "cell_type": "code",
   "execution_count": 14,
   "metadata": {
    "button": false,
    "collapsed": false,
    "deletable": true,
    "new_sheet": false,
    "run_control": {
     "read_only": false
    }
   },
   "outputs": [],
   "source": [
    "def makeFString(title):\n",
    "    return base + title + '.txt'\n",
    "\n",
    "def makeFExtString(title, ext):\n",
    "    return base + title + ext\n",
    "\n",
    "def openFile(fName):\n",
    "    with open(fName) as dFile:    \n",
    "        data = json.load(dFile)\n",
    "    return data\n",
    "\n",
    "def saveData(nFile, data):\n",
    "    target = open(nFile, 'w')\n",
    "    target.write(data)\n",
    "    target.close()\n",
    "    return target\n",
    "\n",
    "def pullTerm(data, term):\n",
    "    comp = []\n",
    "    for x in data:\n",
    "        if term in x:\n",
    "            comp += [x[term]]\n",
    "    return comp\n",
    "    \n",
    "def analyze(bag):\n",
    "    return analyzeCoSim(analyzeVectorizer(bag, 0.70, 0.05))\n",
    "\n",
    "def analyzeVectorizer(bag, max_df, min_df):\n",
    "    tfidf_vectorizer = TfidfVectorizer(max_df = max_df, min_df = min_df)\n",
    "    return tfidf_vectorizer.fit_transform(bag)\n",
    "\n",
    "def analyzeCoSim(bag):\n",
    "    sim = []\n",
    "    for x, matx in enumerate(bag):\n",
    "        cos_sim = cosine_similarity(matx, bag)\n",
    "        sim += cos_sim.tolist()\n",
    "    return sim"
   ]
  },
  {
   "cell_type": "code",
   "execution_count": 3,
   "metadata": {
    "button": false,
    "collapsed": true,
    "deletable": true,
    "new_sheet": false,
    "run_control": {
     "read_only": false
    }
   },
   "outputs": [],
   "source": [
    "def get_files(path):\n",
    "    for (dirpath, _, filenames) in os.walk(path):\n",
    "        for filename in filenames:\n",
    "            yield os.path.join(dirpath, filename)\n",
    " \n",
    "def getFilename(fPath):\n",
    "    return basename(fPath).rsplit('.', 1)[0]\n",
    "\n",
    "def findExtMissing(fName, ext):\n",
    "    filename, file_extension = os.path.splitext(fName)\n",
    "    if os.path.exists(filename + '(analysis)' + ext):\n",
    "        return False\n",
    "    return True\n",
    "\n",
    "def getMissingBooks():\n",
    "    files = []\n",
    "    for filename in get_files('./test_assets/'):\n",
    "        if '.txt' in filename and findExtMissing(filename,'.json'):\n",
    "            files += [filename]\n",
    "    return files\n",
    "\n",
    "def getBooks():\n",
    "    files = []\n",
    "    for filename in get_files('./test_assets/'):\n",
    "        if '.json' in filename:\n",
    "            files += [filename]\n",
    "    return files"
   ]
  },
  {
   "cell_type": "code",
   "execution_count": 4,
   "metadata": {
    "button": false,
    "collapsed": true,
    "deletable": true,
    "new_sheet": false,
    "run_control": {
     "read_only": false
    }
   },
   "outputs": [],
   "source": [
    "def scaleIgnoreFirst(data):\n",
    "    construct = []\n",
    "    cols = data.columns.values\n",
    "    for col in cols:\n",
    "        sorted_col = pd.DataFrame(data[col])\n",
    "        first = sorted_col.nlargest(2, col).iloc[0]\n",
    "        second = sorted_col.nlargest(2, col).iloc[1]\n",
    "        sorted_col.loc[sorted_col[col] == first[col], col] = second[col]\n",
    "        construct += [sorted_col]\n",
    "    new_df = pd.concat(construct, axis=1)\n",
    "    return new_df\n",
    "\n",
    "def returnNormCS(df):\n",
    "    min_max_scaler = preprocessing.MinMaxScaler()\n",
    "    scaled = scaleIgnoreFirst(df)\n",
    "    df_phrase_scaled = min_max_scaler.fit_transform(scaled)\n",
    "    df_normalized = pd.DataFrame(df_phrase_scaled)\n",
    "    return df_normalized"
   ]
  },
  {
   "cell_type": "code",
   "execution_count": 5,
   "metadata": {
    "button": false,
    "collapsed": false,
    "deletable": true,
    "new_sheet": false,
    "run_control": {
     "read_only": false
    }
   },
   "outputs": [],
   "source": [
    "# print getMissingBooks()"
   ]
  },
  {
   "cell_type": "code",
   "execution_count": 6,
   "metadata": {
    "button": false,
    "collapsed": false,
    "deletable": true,
    "new_sheet": false,
    "run_control": {
     "read_only": false
    }
   },
   "outputs": [],
   "source": [
    "# print getBooks()"
   ]
  },
  {
   "cell_type": "code",
   "execution_count": 7,
   "metadata": {
    "button": false,
    "collapsed": false,
    "deletable": true,
    "new_sheet": false,
    "run_control": {
     "read_only": false
    }
   },
   "outputs": [],
   "source": [
    "titles = getBooks()\n",
    "datum = []\n",
    "\n",
    "for title in titles:\n",
    "#     base = basename(title).rsplit('.', 1)[0]\n",
    "    \n",
    "    data = openFile(title)\n",
    "#     data['author'] = base.split(',')[0]\n",
    "#     data['title'] = base.replace(base.split(',')[0] + \", \",\"\").replace(\"(analysis)\",\"\")\n",
    "    datum += [data]"
   ]
  },
  {
   "cell_type": "code",
   "execution_count": 8,
   "metadata": {
    "button": false,
    "collapsed": true,
    "deletable": true,
    "new_sheet": false,
    "run_control": {
     "read_only": false
    }
   },
   "outputs": [],
   "source": [
    "df_words = pd.DataFrame(analyze(pullTerm(datum,'words')))\n",
    "# df_phrases = pd.DataFrame(analyze(pullTerm(datum,'phrases')))\n",
    "df_sentiment = pd.DataFrame(analyze(pullTerm(datum,'sentiment')))"
   ]
  },
  {
   "cell_type": "code",
   "execution_count": 9,
   "metadata": {
    "button": false,
    "collapsed": false,
    "deletable": true,
    "new_sheet": false,
    "run_control": {
     "read_only": false
    }
   },
   "outputs": [],
   "source": [
    "# norm_cs_phrases = returnNormCS(df_phrases)\n",
    "norm_cs_words = returnNormCS(df_words)\n",
    "norm_cs_sentiment = returnNormCS(df_sentiment)"
   ]
  },
  {
   "cell_type": "code",
   "execution_count": 10,
   "metadata": {
    "button": false,
    "collapsed": true,
    "deletable": true,
    "new_sheet": false,
    "run_control": {
     "read_only": false
    }
   },
   "outputs": [],
   "source": [
    "metas = [[x['words'], x['polarity'], x['subjectivity']] for x in pullTerm(datum,'meta')]\n",
    "norm_cs_meta = returnNormCS(pd.DataFrame(analyzeCoSim(metas)))\n",
    "# norm_cs_meta"
   ]
  },
  {
   "cell_type": "code",
   "execution_count": 2,
   "metadata": {
    "button": false,
    "collapsed": false,
    "deletable": true,
    "new_sheet": false,
    "run_control": {
     "read_only": false
    },
    "scrolled": true
   },
   "outputs": [
    {
     "ename": "NameError",
     "evalue": "name 'pullTerm' is not defined",
     "output_type": "error",
     "traceback": [
      "\u001b[0;31m---------------------------------------------------------------------------\u001b[0m",
      "\u001b[0;31mNameError\u001b[0m                                 Traceback (most recent call last)",
      "\u001b[0;32m<ipython-input-2-60d37f1c3851>\u001b[0m in \u001b[0;36m<module>\u001b[0;34m()\u001b[0m\n\u001b[1;32m      1\u001b[0m \u001b[0mgoogle_metas\u001b[0m \u001b[0;34m=\u001b[0m \u001b[0;34m[\u001b[0m\u001b[0;34m]\u001b[0m\u001b[0;34m\u001b[0m\u001b[0m\n\u001b[0;32m----> 2\u001b[0;31m \u001b[0;32mfor\u001b[0m \u001b[0mx\u001b[0m \u001b[0;32min\u001b[0m \u001b[0mpullTerm\u001b[0m\u001b[0;34m(\u001b[0m\u001b[0mdatum\u001b[0m\u001b[0;34m,\u001b[0m\u001b[0;34m'meta'\u001b[0m\u001b[0;34m)\u001b[0m\u001b[0;34m:\u001b[0m\u001b[0;34m\u001b[0m\u001b[0m\n\u001b[0m\u001b[1;32m      3\u001b[0m     \u001b[0minfo\u001b[0m \u001b[0;34m=\u001b[0m \u001b[0;34m{\u001b[0m\u001b[0;34m}\u001b[0m\u001b[0;34m\u001b[0m\u001b[0m\n\u001b[1;32m      4\u001b[0m     \u001b[0mx_goog\u001b[0m \u001b[0;34m=\u001b[0m \u001b[0mx\u001b[0m\u001b[0;34m[\u001b[0m\u001b[0;34m'google'\u001b[0m\u001b[0;34m]\u001b[0m\u001b[0;34m\u001b[0m\u001b[0m\n\u001b[1;32m      5\u001b[0m     \u001b[0;32mif\u001b[0m \u001b[0;34m'title'\u001b[0m \u001b[0;32min\u001b[0m \u001b[0mx_goog\u001b[0m\u001b[0;34m:\u001b[0m\u001b[0;34m\u001b[0m\u001b[0m\n",
      "\u001b[0;31mNameError\u001b[0m: name 'pullTerm' is not defined"
     ]
    }
   ],
   "source": [
    "google_metas = []\n",
    "for x in pullTerm(datum,'meta'):\n",
    "    info = {}\n",
    "    x_goog = x['google']\n",
    "    if 'title' in x_goog:\n",
    "        info['title'] = x_goog['title']\n",
    "    else:\n",
    "        info['title'] = None\n",
    "    if 'authors' in x_goog:\n",
    "        info['authors'] = ', '.join(x_goog['authors'])\n",
    "    else:\n",
    "        info['authors'] = None\n",
    "    if 'categories' in x_goog:\n",
    "        info['categories'] = ' '.join(x_goog['categories'])\n",
    "    else:\n",
    "        info['categories'] = None\n",
    "    google_metas += [info]\n",
    "\n",
    "g_meta_df = pd.DataFrame(google_metas)\n",
    "g_meta_df.head()"
   ]
  },
  {
   "cell_type": "code",
   "execution_count": 1,
   "metadata": {
    "button": false,
    "collapsed": false,
    "deletable": true,
    "new_sheet": false,
    "run_control": {
     "read_only": false
    }
   },
   "outputs": [
    {
     "ename": "NameError",
     "evalue": "name 'g_meta_df' is not defined",
     "output_type": "error",
     "traceback": [
      "\u001b[0;31m---------------------------------------------------------------------------\u001b[0m",
      "\u001b[0;31mNameError\u001b[0m                                 Traceback (most recent call last)",
      "\u001b[0;32m<ipython-input-1-053c8c1a3aef>\u001b[0m in \u001b[0;36m<module>\u001b[0;34m()\u001b[0m\n\u001b[0;32m----> 1\u001b[0;31m \u001b[0mtop\u001b[0m \u001b[0;34m=\u001b[0m \u001b[0mg_meta_df\u001b[0m\u001b[0;34m[\u001b[0m\u001b[0;34m'categories'\u001b[0m\u001b[0;34m]\u001b[0m\u001b[0;34m.\u001b[0m\u001b[0mvalue_counts\u001b[0m\u001b[0;34m(\u001b[0m\u001b[0;34m)\u001b[0m\u001b[0;34m.\u001b[0m\u001b[0mindex\u001b[0m\u001b[0;34m.\u001b[0m\u001b[0mtolist\u001b[0m\u001b[0;34m(\u001b[0m\u001b[0;34m)\u001b[0m\u001b[0;34m[\u001b[0m\u001b[0;36m0\u001b[0m\u001b[0;34m]\u001b[0m\u001b[0;34m\u001b[0m\u001b[0m\n\u001b[0m\u001b[1;32m      2\u001b[0m \u001b[0mfiction\u001b[0m \u001b[0;34m=\u001b[0m \u001b[0mg_meta_df\u001b[0m\u001b[0;34m.\u001b[0m\u001b[0mix\u001b[0m\u001b[0;34m[\u001b[0m\u001b[0;34m(\u001b[0m\u001b[0mg_meta_df\u001b[0m\u001b[0;34m[\u001b[0m\u001b[0;34m'categories'\u001b[0m\u001b[0;34m]\u001b[0m\u001b[0;34m==\u001b[0m\u001b[0mtop\u001b[0m\u001b[0;34m)\u001b[0m\u001b[0;34m]\u001b[0m\u001b[0;34m\u001b[0m\u001b[0m\n\u001b[1;32m      3\u001b[0m \u001b[0mfiction\u001b[0m\u001b[0;34m.\u001b[0m\u001b[0mhead\u001b[0m\u001b[0;34m(\u001b[0m\u001b[0;34m)\u001b[0m\u001b[0;34m\u001b[0m\u001b[0m\n",
      "\u001b[0;31mNameError\u001b[0m: name 'g_meta_df' is not defined"
     ]
    }
   ],
   "source": [
    "top = g_meta_df['categories'].value_counts().index.tolist()[0]\n",
    "fiction = g_meta_df.ix[(g_meta_df['categories']==top)]\n",
    "fiction.head()"
   ]
  },
  {
   "cell_type": "code",
   "execution_count": 93,
   "metadata": {
    "button": false,
    "collapsed": false,
    "deletable": true,
    "new_sheet": false,
    "run_control": {
     "read_only": false
    }
   },
   "outputs": [],
   "source": [
    "indices = g_meta_df.ix[(g_meta_df['categories']==top)].index.tolist()\n",
    "word_temp = pd.DataFrame(pullTerm(datum,'words'))\n",
    "#print word_temp.iloc[indices,:][0]\n",
    "vectorized_words = analyzeVectorizer(word_temp.iloc[indices,:][0], .7, .05)\n",
    "# # df_words = pd.DataFrame(analyzeVectorizer(pullTerm(datum,'words'), .7, .05))"
   ]
  },
  {
   "cell_type": "code",
   "execution_count": 75,
   "metadata": {
    "button": false,
    "collapsed": false,
    "deletable": true,
    "new_sheet": false,
    "run_control": {
     "read_only": false
    }
   },
   "outputs": [],
   "source": [
    "fiction_slice_pca = []\n",
    "pca = PCA(n_components=2)\n",
    "pca_fiction = pca.fit_transform(df_words.iloc[indices,:])"
   ]
  },
  {
   "cell_type": "code",
   "execution_count": 70,
   "metadata": {
    "button": false,
    "collapsed": false,
    "deletable": true,
    "new_sheet": false,
    "run_control": {
     "read_only": false
    }
   },
   "outputs": [
    {
     "data": {
      "text/plain": [
       "<matplotlib.legend.Legend at 0x1254808d0>"
      ]
     },
     "execution_count": 70,
     "metadata": {},
     "output_type": "execute_result"
    },
    {
     "data": {
      "image/png": "[encoded data removed]",
      "text/plain": [
       "<matplotlib.figure.Figure at 0x125480190>"
      ]
     },
     "metadata": {},
     "output_type": "display_data"
    }
   ],
   "source": [
    "pca_df = pd.DataFrame(pca_fiction, columns=['x','y'])\n",
    "plt.scatter(pca_df['x'], pca_df['y'], s=120, c='r', label=str('label'))\n",
    "plt.legend()"
   ]
  },
  {
   "cell_type": "code",
   "execution_count": 72,
   "metadata": {
    "button": false,
    "collapsed": false,
    "deletable": true,
    "new_sheet": false,
    "run_control": {
     "read_only": false
    }
   },
   "outputs": [
    {
     "name": "stdout",
     "output_type": "stream",
     "text": [
      "Abigail Roux: Ball & Chain\n",
      "( -0.05 , 0.32 )\n",
      "Adite Banerjie: The Indian Tycoon's Marriage Deal\n",
      "( 0.02 , -0.31 )\n",
      "Aharon Appelfeld: Suddenly, Love\n",
      "( -0.07 , 0.32 )\n",
      "Alan Dean Foster: The Force Awakens\n",
      "( -0.11 , -0.05 )\n",
      "Alannah Carbonneau: The Curse of Bound Blood\n",
      "( 1.43 , -0.18 )\n",
      "Alannah Carbonneau: The Curse of Bound Blood\n",
      "( 1.5 , -0.18 )\n",
      "Alannah Carbonneau: The Curse of Bound Blood\n",
      "( 1.46 , -0.15 )\n",
      "Alex Irvine: Dawn of the Planet of the Apes: The Official Movie Novelization\n",
      "( -0.16 , 0.17 )\n",
      "Alexander McCall Smith: Fatty O'Leary's Dinner Party\n",
      "( -0.07 , 0.36 )\n",
      "Alexander McCall Smith: Sunshine on Scotland Street\n",
      "( -0.09 , 0.21 )\n",
      "Alexandra Christian: One Hundred Strokes\n",
      "( 0.08 , 0.18 )\n",
      "Alexia Purdy: Amplified (Reign of Blood #3)\n",
      "( -0.03 , 0.06 )\n",
      "Lindsay Townsend: A Knight's Vow\n",
      "( 0.09 , 0.17 )\n",
      "Allyson K Abbott: Murder with a Twist\n",
      "( -0.08 , 0.19 )\n",
      "Robyn Donald: Ruthless Billionaire, Inexperienced Mistress\n",
      "( 0.05 , 0.06 )\n",
      "Amanda Forester: The Trouble with a Highland Bride\n",
      "( -0.09 , 0.08 )\n",
      "Andre Norton, Patricia Mathews, Sasha Miller: On Wings of Magic\n",
      "( -0.02 , -0.06 )\n",
      "Andy Gavin: Untimed\n",
      "( -0.13 , -0.39 )\n",
      "Anna Schmidt: A Sister's Forgiveness\n",
      "( -0.1 , 0.08 )\n",
      "Ruth Cardello: Always Mine\n",
      "( 0.02 , 0.65 )\n",
      "Ruth Cardello: Always Mine\n",
      "( 0.01 , 0.62 )\n",
      "Arlene Kay: Swann Dive\n",
      "( 0.0 , -0.18 )\n",
      "B. C. Burgess: Descension\n",
      "( 0.22 , -0.13 )\n",
      "Barbara Delinsky: Warm Hearts\n",
      "( -0.01 , 0.15 )\n",
      "Barbara Steiner: The gallery\n",
      "( -0.07 , 0.2 )\n",
      "Carl Hiaasen: Razor Girl\n",
      "( -0.08 , -0.22 )\n",
      "Clare Mackintosh: I Let You Go\n",
      "( -0.06 , -0.01 )\n",
      "Colson Whitehead: The Underground Railroad\n",
      "( -0.29 , -0.3 )\n",
      "David Baldacci: No Man's Land\n",
      "( -0.09 , 0.12 )\n",
      "Don Pendleton: Ballistic Force\n",
      "( -0.15 , -0.24 )\n",
      "Wanda E. Brunstetter: Going Home\n",
      "( 0.09 , 0.0 )\n",
      "Fern Michaels: A Family Affair\n",
      "( 0.07 , -0.18 )\n",
      "Gary Shteyngart: Absurdistan\n",
      "( -0.12 , -0.51 )\n",
      "J.D. Robb: Apprentice in Death\n",
      "( -0.06 , 0.03 )\n",
      "J. A. Jance: Downfall\n",
      "( -0.08 , 0.29 )\n",
      "J.R. Ward: Blood Vow\n",
      "( 0.05 , 0.08 )\n",
      "Jacqueline Carey: Banewreaker\n",
      "( -0.03 , 0.03 )\n",
      "James Hayman: The Chill of Night\n",
      "( -0.09 , 0.03 )\n",
      "James Patterson: 113 Minutes\n",
      "( -0.12 , 0.09 )\n",
      "James Patterson: Cross the Line\n",
      "( -0.17 , -0.36 )\n",
      "James S. A. Corey: Babylon's Ashes\n",
      "( -0.12 , -0.19 )\n",
      "Jennifer Ashley: Guardian's Mate\n",
      "( -0.03 , 0.2 )\n",
      "Jill Shalvis: My Kind of Wonderful\n",
      "( -0.01 , 0.12 )\n",
      "Jodi Ellen Malpas: The Protector--FREE PREVIEW (FIRST 7 CHAPTERS)\n",
      "( 0.1 , -0.03 )\n",
      "John Grisham: Rogue Lawyer\n",
      "( -0.13 , -0.25 )\n",
      "John Grisham: The Whistler\n",
      "( -0.11 , 0.0 )\n",
      "Joni Hahn: Agent I1\n",
      "( -0.18 , -0.35 )\n",
      "Orson Scott Card: Enchantment\n",
      "( -0.03 , -0.02 )\n",
      "Katherine Kingston: Binding Passion\n",
      "( -0.03 , 0.34 )\n",
      "Katherine Kingston: Daring Passion\n",
      "( 0.03 , 0.27 )\n",
      "Katherine Kingston: Healing Passion\n",
      "( -0.01 , 0.24 )\n",
      "Kathrine Kingston: Passions\n",
      "( 0.01 , 0.17 )\n",
      "Katy Evans: Womanizer\n",
      "( 0.52 , -0.27 )\n",
      "Kristin Hannah: The Nightingale\n",
      "( -0.17 , -0.56 )\n",
      "Lana Axe: A Story of River\n",
      "( -0.07 , 0.25 )\n",
      "Lauren Layne: Someone Like You\n",
      "( -0.01 , 0.24 )\n",
      "Lee Child: Night School\n",
      "( -0.18 , -0.49 )\n",
      "Liane Moriarty: Truly Madly Guilty\n",
      "( -0.07 , 0.22 )\n",
      "Lisa Jensen: Alias Hook\n",
      "( -0.09 , 0.03 )\n",
      "Loren Coleman: Age of Conan: Blood of Wolves\n",
      "( -0.06 , 0.18 )\n",
      "Michelle M. Pillow: Portrait of His Obsession\n",
      "( -0.09 , 0.19 )\n",
      "M.L. Stedman: The Light Between Oceans\n",
      "( -0.12 , 0.14 )\n",
      "Mark Greaney: Tom Clancy True Faith and Allegiance\n",
      "( -0.11 , -0.34 )\n",
      "Jamie McGuire: Beautiful Disaster\n",
      "( 0.06 , -0.12 )\n",
      "Nora Roberts: Island of Glass\n",
      "( -0.05 , 0.26 )\n",
      "Patricia Cornwell: Depraved Heart\n",
      "( -0.11 , 0.02 )\n",
      "Paula Hawkins: The Girl on the Train\n",
      "( -0.19 , -0.37 )\n",
      "Pete Lockett: A Survivor's Guide to Eternity\n",
      "( -0.08 , 0.12 )\n",
      "Robin Cook: Acceptable Risk\n",
      "( -0.08 , 0.32 )\n",
      "Ron Carlson: A Kind of Flying: Selected Stories\n",
      "( -0.12 , -0.43 )\n",
      "Ron Carlson: At the Jim Bridger\n",
      "( -0.12 , -0.25 )\n",
      "Ruth Ware: The Woman in Cabin 10\n",
      "( -0.29 , -0.3 )\n",
      "Sabrina Benulis: Archon\n",
      "( -0.02 , 0.32 )\n",
      "Sandra Brown: Sting\n",
      "( -0.08 , 0.15 )\n",
      "Scott Nicholson: After: First Light\n",
      "( -0.28 , -0.55 )\n",
      "Scott Nicholson: After: The Echo\n",
      "( -0.3 , -0.65 )\n",
      "Tijan: Anti-Stepbrother\n",
      "( 0.04 , 0.36 )\n",
      "William Kienzle: Assault with Intent\n",
      "( -0.12 , -0.03 )\n"
     ]
    }
   ],
   "source": [
    "meta_fiction = fiction.reset_index()\n",
    "for idx, x in meta_fiction.iterrows():\n",
    "    print x['authors'] + \": \" + x['title'] \n",
    "    print \"(\" , round(pca_df.iloc[idx]['x'],2) , \",\" , round(pca_df.iloc[idx]['y'],2) , \")\""
   ]
  },
  {
   "cell_type": "code",
   "execution_count": 94,
   "metadata": {
    "button": false,
    "collapsed": false,
    "deletable": true,
    "new_sheet": false,
    "run_control": {
     "read_only": false
    }
   },
   "outputs": [
    {
     "data": {
      "text/plain": [
       "0.31367554104454076"
      ]
     },
     "execution_count": 94,
     "metadata": {},
     "output_type": "execute_result"
    }
   ],
   "source": [
    "X = vectorized_words.todense()\n",
    "Z = linkage(X, 'ward')\n",
    "c, coph_dists = cophenet(Z, pdist(X))\n",
    "c"
   ]
  },
  {
   "cell_type": "code",
   "execution_count": 96,
   "metadata": {
    "button": false,
    "collapsed": false,
    "deletable": true,
    "new_sheet": false,
    "run_control": {
     "read_only": false
    }
   },
   "outputs": [
    {
     "data": {
      "image/png": "[encoded data removed]",
      "text/plain": [
       "<matplotlib.figure.Figure at 0x126306950>"
      ]
     },
     "metadata": {},
     "output_type": "display_data"
    }
   ],
   "source": [
    "plt.figure(figsize=(25, 10))\n",
    "plt.title('Hierarchical Clustering Dendrogram')\n",
    "plt.xlabel('sample index')\n",
    "plt.ylabel('distance')\n",
    "dendrogram(\n",
    "    Z,\n",
    "    leaf_rotation=90.,  # rotates the x axis labels\n",
    "    leaf_font_size=8.,  # font size for the x axis labels\n",
    ")\n",
    "plt.show()"
   ]
  },
  {
   "cell_type": "code",
   "execution_count": 107,
   "metadata": {
    "button": false,
    "collapsed": false,
    "deletable": true,
    "new_sheet": false,
    "run_control": {
     "read_only": false
    }
   },
   "outputs": [
    {
     "name": "stdout",
     "output_type": "stream",
     "text": [
      "(0,10) Abigail Roux: Ball & Chain\n",
      "(1,8) Adite Banerjie: The Indian Tycoon's Marriage Deal\n",
      "(2,6) Aharon Appelfeld: Suddenly, Love\n",
      "(3,10) Alan Dean Foster: The Force Awakens\n",
      "(4,1) Alannah Carbonneau: The Curse of Bound Blood\n",
      "(5,1) Alannah Carbonneau: The Curse of Bound Blood\n",
      "(6,1) Alannah Carbonneau: The Curse of Bound Blood\n",
      "(7,10) Alex Irvine: Dawn of the Planet of the Apes: The Official Movie Novelization\n",
      "(8,10) Alexander McCall Smith: Fatty O'Leary's Dinner Party\n",
      "(9,10) Alexander McCall Smith: Sunshine on Scotland Street\n",
      "(10,10) Alexandra Christian: One Hundred Strokes\n",
      "(11,10) Alexia Purdy: Amplified (Reign of Blood #3)\n",
      "(12,8) Lindsay Townsend: A Knight's Vow\n",
      "(13,6) Allyson K Abbott: Murder with a Twist\n",
      "(14,10) Robyn Donald: Ruthless Billionaire, Inexperienced Mistress\n",
      "(15,6) Amanda Forester: The Trouble with a Highland Bride\n",
      "(16,8) Andre Norton, Patricia Mathews, Sasha Miller: On Wings of Magic\n",
      "(17,3) Andy Gavin: Untimed\n",
      "(18,6) Anna Schmidt: A Sister's Forgiveness\n",
      "(19,5) Ruth Cardello: Always Mine\n",
      "(20,5) Ruth Cardello: Always Mine\n",
      "(21,9) Arlene Kay: Swann Dive\n",
      "(22,8) B. C. Burgess: Descension\n",
      "(23,10) Barbara Delinsky: Warm Hearts\n",
      "(24,10) Barbara Steiner: The gallery\n",
      "(25,6) Carl Hiaasen: Razor Girl\n",
      "(26,6) Clare Mackintosh: I Let You Go\n",
      "(27,2) Colson Whitehead: The Underground Railroad\n",
      "(28,6) David Baldacci: No Man's Land\n",
      "(29,6) Don Pendleton: Ballistic Force\n",
      "(30,10) Wanda E. Brunstetter: Going Home\n",
      "(31,10) Fern Michaels: A Family Affair\n",
      "(32,6) Gary Shteyngart: Absurdistan\n",
      "(33,6) J.D. Robb: Apprentice in Death\n",
      "(34,10) J. A. Jance: Downfall\n",
      "(35,10) J.R. Ward: Blood Vow\n",
      "(36,8) Jacqueline Carey: Banewreaker\n",
      "(37,10) James Hayman: The Chill of Night\n",
      "(38,6) James Patterson: 113 Minutes\n",
      "(39,6) James Patterson: Cross the Line\n",
      "(40,10) James S. A. Corey: Babylon's Ashes\n",
      "(41,8) Jennifer Ashley: Guardian's Mate\n",
      "(42,10) Jill Shalvis: My Kind of Wonderful\n",
      "(43,9) Jodi Ellen Malpas: The Protector--FREE PREVIEW (FIRST 7 CHAPTERS)\n",
      "(44,6) John Grisham: Rogue Lawyer\n",
      "(45,6) John Grisham: The Whistler\n",
      "(46,4) Joni Hahn: Agent I1\n",
      "(47,8) Orson Scott Card: Enchantment\n",
      "(48,7) Katherine Kingston: Binding Passion\n",
      "(49,10) Katherine Kingston: Daring Passion\n",
      "(50,7) Katherine Kingston: Healing Passion\n",
      "(51,7) Kathrine Kingston: Passions\n",
      "(52,10) Katy Evans: Womanizer\n",
      "(53,3) Kristin Hannah: The Nightingale\n",
      "(54,10) Lana Axe: A Story of River\n",
      "(55,10) Lauren Layne: Someone Like You\n",
      "(56,6) Lee Child: Night School\n",
      "(57,10) Liane Moriarty: Truly Madly Guilty\n",
      "(58,10) Lisa Jensen: Alias Hook\n",
      "(59,8) Loren Coleman: Age of Conan: Blood of Wolves\n",
      "(60,10) Michelle M. Pillow: Portrait of His Obsession\n",
      "(61,10) M.L. Stedman: The Light Between Oceans\n",
      "(62,6) Mark Greaney: Tom Clancy True Faith and Allegiance\n",
      "(63,3) Jamie McGuire: Beautiful Disaster\n",
      "(64,10) Nora Roberts: Island of Glass\n",
      "(65,10) Patricia Cornwell: Depraved Heart\n",
      "(66,4) Paula Hawkins: The Girl on the Train\n",
      "(67,10) Pete Lockett: A Survivor's Guide to Eternity\n",
      "(68,10) Robin Cook: Acceptable Risk\n",
      "(69,6) Ron Carlson: A Kind of Flying: Selected Stories\n",
      "(70,6) Ron Carlson: At the Jim Bridger\n",
      "(71,2) Ruth Ware: The Woman in Cabin 10\n",
      "(72,10) Sabrina Benulis: Archon\n",
      "(73,6) Sandra Brown: Sting\n",
      "(74,4) Scott Nicholson: After: First Light\n",
      "(75,4) Scott Nicholson: After: The Echo\n",
      "(76,10) Tijan: Anti-Stepbrother\n",
      "(77,6) William Kienzle: Assault with Intent\n"
     ]
    }
   ],
   "source": [
    "max_d = 1.6\n",
    "clusters = fcluster(Z, max_d, criterion='distance')\n",
    "for idx, x in meta_fiction.iterrows():\n",
    "    print \"(\" + str(idx) + \",\" + str(clusters[idx]) + \") \" + x['authors'] + \": \" + x['title']"
   ]
  },
  {
   "cell_type": "code",
   "execution_count": null,
   "metadata": {
    "button": false,
    "collapsed": true,
    "deletable": true,
    "new_sheet": false,
    "run_control": {
     "read_only": false
    }
   },
   "outputs": [],
   "source": [
    "X = book1_finished.drop('cat',axis=1)\n",
    "\n",
    "X = analyzeVectorizer(bag, max_df, min_df)\n",
    "\n",
    "pca = PCA(n_components=2)\n",
    "pca1 = pca.fit_transform(X)\n",
    "\n",
    "X = book2_finished.drop('cat',axis=1)\n",
    "pca2 = pca.fit_transform(X)\n",
    "X = book3_finished.drop('cat',axis=1)\n",
    "pca3 = pca.fit_transform(X)\n",
    "\n"
   ]
  },
  {
   "cell_type": "code",
   "execution_count": 724,
   "metadata": {
    "button": false,
    "collapsed": false,
    "deletable": true,
    "new_sheet": false,
    "run_control": {
     "read_only": false
    }
   },
   "outputs": [],
   "source": [
    "#weights = [96,0,2,2]\n",
    "weights = [6,1,4]\n",
    "df_all = ((norm_cs_words * weights[0]) + (norm_cs_sentiment * weights[1]) + (norm_cs_meta * weights[2])) / np.sum(weights)  "
   ]
  },
  {
   "cell_type": "code",
   "execution_count": 725,
   "metadata": {
    "button": false,
    "collapsed": false,
    "deletable": true,
    "new_sheet": false,
    "run_control": {
     "read_only": false
    }
   },
   "outputs": [
    {
     "name": "stdout",
     "output_type": "stream",
     "text": [
      "Book: James S.A. Corey, Babylon's Ashes\n",
      "1:125 - Ron Francis, Deep Space Endeavor - Death Match (0.75)\n",
      "2:4 - Alan Foster, Star Wars - The Force Awakens (0.72)\n",
      "3:42 - Brian Kilmeade, Thomas Jefferson and the Tripoli Pirates (0.69)\n",
      "4:73 - James Patterson, Cross the Line by (0.68)\n",
      "5:126 - Ron Francis, Deep Space Endeavor - Total Betrayal (0.66)\n",
      "6:103 - M. Donice Byrd, An Officer but No Gentleman (0.63)\n",
      "7:143 - Yuval Noah Harari, Sapiens - A Brief History of Humankind (0.61)\n",
      "8:81 - John Jacob Astor, Astoria (0.6)\n",
      "9:135 - Steven Levitt, When to Rob a Bank (0.59)\n",
      "10:63 - Gary Shteyngart, Absurdistan - A Novel (0.58)\n",
      "11:22 - Andi Dorfman, It's Not Okay - Turning Heartbreak into Happily Never After (0.58)\n",
      "12:110 - Michele Barrow, Fire and Ice (0.57)\n",
      "13:98 - Lee Child, Night School (0.55)\n",
      "14:21 - Amy Schumer, The Girl with the Lower Back Tattoo (0.54)\n"
     ]
    }
   ],
   "source": [
    "def determineCloseness(pos, data, spots):\n",
    "    datay = data.sort([pos],ascending=[0]).index\n",
    "    print \"Book: \" + getFilename(getBooks()[pos].replace(\"(analysis)\",\"\"))\n",
    "    for idx, x in enumerate(datay[:spots]):\n",
    "        if (x != pos):\n",
    "            print str(idx) + \":\" + str(x) + \" - \"+ getFilename(getBooks()[x].replace(\"(analysis)\",\"\")) + \" (\" + str(round(data[pos][x],2)) + \")\"\n",
    "        \n",
    "determineCloseness(74, df_all, 15)"
   ]
  },
  {
   "cell_type": "code",
   "execution_count": 818,
   "metadata": {
    "button": false,
    "collapsed": true,
    "deletable": true,
    "new_sheet": false,
    "run_control": {
     "read_only": false
    }
   },
   "outputs": [],
   "source": [
    "# from __future__ import division, unicode_literals\n",
    "# import math\n",
    "\n",
    "# def tf(word, blob):\n",
    "#     return blob.words.count(word) / len(blob.words)\n",
    "\n",
    "# def n_containing(word, bloblist):\n",
    "#     return sum(1 for blob in bloblist if word in blob.words)\n",
    "\n",
    "# def idf(word, bloblist):\n",
    "#     return math.log(len(bloblist) / (1 + n_containing(word, bloblist)))\n",
    "\n",
    "# def tfidf(word, blob, bloblist):\n",
    "#     return tf(word, blob) * idf(word, bloblist)"
   ]
  },
  {
   "cell_type": "code",
   "execution_count": 727,
   "metadata": {
    "button": false,
    "collapsed": false,
    "deletable": true,
    "new_sheet": false,
    "run_control": {
     "read_only": false
    }
   },
   "outputs": [
    {
     "name": "stdout",
     "output_type": "stream",
     "text": [
      "{u'to': 8, u'wa': 9, u'the': 7, u'that': 6, u'he': 1, u'it': 4, u'in': 3, u'and': 0, u'of': 5, u'his': 2}\n"
     ]
    }
   ],
   "source": [
    "left = pullTerm([datum[42]],'words')[0]\n",
    "right = pullTerm([datum[74]],'words')[0]\n",
    "bloblist = [left,right]\n",
    "\n",
    "tfidf_vectorizer = TfidfVectorizer(max_features=10)\n",
    "matrix = tfidf_vectorizer.fit_transform(bloblist)\n",
    "top_features = tfidf_vectorizer.vocabulary_\n",
    "n = len(top_features)\n",
    "print top_features\n",
    "\n",
    "# insert the emoticons into the vocabulary of common features\n",
    "#emoticons = {\":)\":0, \":P\":1, \":(\":2)}\n",
    "#for feature, index in emoticons.items():\n",
    "#    top_features[feature] = n + index\n",
    "\n",
    "# re-vectorize using both sets of features\n",
    "# at this point len(top_features) == 13\n",
    "#vect = TfidfVectorizer(vocabulary=top_features)\n",
    "#matrix = vect.fit_transform(traindata)"
   ]
  },
  {
   "cell_type": "code",
   "execution_count": 808,
   "metadata": {
    "button": false,
    "collapsed": false,
    "deletable": true,
    "new_sheet": false,
    "run_control": {
     "read_only": false
    }
   },
   "outputs": [],
   "source": [
    "#Find the most frequently occuring word in the first file that is also present in all the other documents\n",
    "from sklearn.feature_extraction import text \n",
    "\n",
    "my_stops = ['said','just','did','going','wa','let']\n",
    "\n",
    "stop_words = text.ENGLISH_STOP_WORDS.union(my_stops)\n",
    "\n",
    "left = pullTerm(datum[70:75],'words')\n",
    "lectures = left\n",
    "vectorizer = TfidfVectorizer(stop_words=stop_words)\n",
    "X = vectorizer.fit_transform(lectures)\n",
    "indices = np.argsort(vectorizer.idf_)\n",
    "# print len(indices)\n",
    "features = vectorizer.get_feature_names()\n",
    "top_n = 100\n",
    "top_features = [(features[i],vectorizer.idf_[i]) for i in indices[:top_n]]\n",
    "# print top_features"
   ]
  },
  {
   "cell_type": "code",
   "execution_count": 809,
   "metadata": {
    "button": false,
    "collapsed": false,
    "deletable": true,
    "new_sheet": false,
    "run_control": {
     "read_only": false
    }
   },
   "outputs": [
    {
     "name": "stdout",
     "output_type": "stream",
     "text": [
      "[(u'like', 823), (u'know', 347), (u'time', 333), (u'little', 329), (u'way', 328), (u'station', 327), (u'hand', 307), (u'free', 302), (u'thing', 289), (u'eye', 269), (u'right', 249), (u'looked', 217), (u'voice', 207), (u'came', 203), (u'away', 200), (u'got', 198), (u'felt', 198), (u'maybe', 196), (u'long', 195), (u'make', 189), (u'come', 187), (u'man', 181), (u'took', 179), (u'good', 174), (u'need', 169), (u'head', 165), (u'belt', 163), (u'asked', 156), (u'think', 153), (u'left', 153), (u'moment', 151), (u'went', 151), (u'new', 144), (u'hard', 139), (u'thought', 137), (u'place', 134), (u'gate', 134), (u'room', 134), (u'say', 134), (u'looking', 133), (u'knew', 133), (u'want', 131), (u'look', 122), (u'coming', 117), (u'work', 115), (u'turned', 115), (u'light', 111), (u'meant', 111), (u'second', 111), (u'arm', 107), (u'life', 107)]\n"
     ]
    }
   ],
   "source": [
    "import operator\n",
    "\n",
    "check = TextBlob(pullTerm([datum[74]],'words')[0])\n",
    "x = check.word_counts\n",
    "sorted_x = sorted(x.items(), key=operator.itemgetter(1))[::-1]\n",
    "\n",
    "joined_features = [features[i] for i in indices if vectorizer.idf_[i] == 1]\n",
    "top = []\n",
    "maxTop = 50\n",
    "\n",
    "for x in sorted_x:\n",
    "    if x[0] in joined_features:\n",
    "        top += [x]\n",
    "    if len(top) > maxTop:\n",
    "        break\n",
    "\n",
    "print top\n",
    "# for x in top_features:\n",
    "#     print check."
   ]
  },
  {
   "cell_type": "code",
   "execution_count": 810,
   "metadata": {
    "button": false,
    "collapsed": false,
    "deletable": true,
    "new_sheet": false,
    "run_control": {
     "read_only": false
    }
   },
   "outputs": [
    {
     "name": "stdout",
     "output_type": "stream",
     "text": [
      "106\n",
      "115\n",
      "30\n"
     ]
    }
   ],
   "source": [
    "for x in pullTerm(datum[40:43],'words'):\n",
    "    check = TextBlob(x)\n",
    "    print check.words.count('like')"
   ]
  },
  {
   "cell_type": "code",
   "execution_count": 817,
   "metadata": {
    "button": false,
    "collapsed": false,
    "deletable": true,
    "new_sheet": false,
    "run_control": {
     "read_only": false
    }
   },
   "outputs": [
    {
     "name": "stdout",
     "output_type": "stream",
     "text": [
      "[(u'\\xf6l\\xfcm', 2.09861228866811), (u'impervious', 2.09861228866811), (u'imported', 2.09861228866811), (u'importance', 2.09861228866811), (u'import', 2.09861228866811), (u'imploring', 2.09861228866811), (u'implication', 2.09861228866811), (u'implicated', 2.09861228866811), (u'implausible', 2.09861228866811), (u'implacably', 2.09861228866811), (u'impinges', 2.09861228866811), (u'impinge', 2.09861228866811), (u'impersonating', 2.09861228866811), (u'impala', 2.09861228866811), (u'impersonal', 2.09861228866811), (u'imperious', 2.09861228866811), (u'imperial', 2.09861228866811), (u'imperfect', 2.09861228866811), (u'imperceptibly', 2.09861228866811), (u'impenetrable', 2.09861228866811), (u'impeding', 2.09861228866811), (u'impatience', 2.09861228866811), (u'impassively', 2.09861228866811), (u'impassive', 2.09861228866811), (u'importunate', 2.09861228866811), (u'impose', 2.09861228866811), (u'imposed', 2.09861228866811), (u'impossibly', 2.09861228866811), (u'inattentive', 2.09861228866811), (u'inattention', 2.09861228866811), (u'inaros', 2.09861228866811), (u'inane', 2.09861228866811), (u'inability', 2.09861228866811), (u'impurity', 2.09861228866811), (u'impure', 2.09861228866811), (u'impulsively', 2.09861228866811), (u'improvised', 2.09861228866811), (u'improvisation', 2.09861228866811), (u'improvement', 2.09861228866811), (u'improved', 2.09861228866811), (u'impromptu', 2.09861228866811), (u'improbably', 2.09861228866811), (u'impressionistic', 2.09861228866811), (u'impregnable', 2.09861228866811), (u'imprecision', 2.09861228866811), (u'imprecise', 2.09861228866811), (u'impoverished', 2.09861228866811), (u'impounded', 2.09861228866811), (u'impotent', 2.09861228866811), (u'imparted', 2.09861228866811)]\n"
     ]
    }
   ],
   "source": [
    "test = pullTerm([datum[74]],'words')[0]\n",
    "\n",
    "vectorizer2 = TfidfVectorizer(stop_words=stop_words)\n",
    "X = vectorizer2.fit_transform([test])\n",
    "indices = np.argsort(vectorizer.idf_)[::-1]\n",
    "# print len(indices)\n",
    "features = vectorizer.get_feature_names()\n",
    "top_n = 50\n",
    "top_features = [(features[i],vectorizer.idf_[i]) for i in indices[:top_n]]\n",
    "print top_features"
   ]
  },
  {
   "cell_type": "code",
   "execution_count": 639,
   "metadata": {
    "button": false,
    "collapsed": false,
    "deletable": true,
    "new_sheet": false,
    "run_control": {
     "read_only": false
    },
    "scrolled": true
   },
   "outputs": [],
   "source": [
    "list = pd.DataFrame([getFilename(x.replace(\"(analysis)\",\"\")) for x in getBooks()], columns=[\"Name\"])"
   ]
  },
  {
   "cell_type": "code",
   "execution_count": 640,
   "metadata": {
    "button": false,
    "collapsed": false,
    "deletable": true,
    "new_sheet": false,
    "run_control": {
     "read_only": false
    }
   },
   "outputs": [
    {
     "name": "stdout",
     "output_type": "stream",
     "text": [
      "                                                 Name\n",
      "30  Arabella Rose, Amber Woods Shifters - Alpha Scent\n",
      "31  Arabella Rose, Amber Woods Shifters- Connor's ...\n"
     ]
    }
   ],
   "source": [
    "def searchLibrary(search):\n",
    "    return list[list[\"Name\"].str.contains(search)]\n",
    "    \n",
    "print searchLibrary(\"Arabella Rose\")"
   ]
  },
  {
   "cell_type": "code",
   "execution_count": 396,
   "metadata": {
    "button": false,
    "collapsed": false,
    "deletable": true,
    "new_sheet": false,
    "run_control": {
     "read_only": false
    }
   },
   "outputs": [],
   "source": [
    "# df_all.ix[20:75,20:75]"
   ]
  },
  {
   "cell_type": "code",
   "execution_count": 397,
   "metadata": {
    "button": false,
    "collapsed": false,
    "deletable": true,
    "new_sheet": false,
    "run_control": {
     "read_only": false
    }
   },
   "outputs": [],
   "source": [
    "# df_words.ix[30:40,30:40]"
   ]
  },
  {
   "cell_type": "code",
   "execution_count": 658,
   "metadata": {
    "button": false,
    "collapsed": false,
    "deletable": true,
    "new_sheet": false,
    "run_control": {
     "read_only": false
    }
   },
   "outputs": [
    {
     "data": {
      "text/plain": [
       "{u'polarity': 0.03946466479855605,\n",
       " u'subjectivity': 0.294323930307046,\n",
       " u'words': 15}"
      ]
     },
     "execution_count": 658,
     "metadata": {},
     "output_type": "execute_result"
    }
   ],
   "source": [
    "datum[74][\"meta\"]"
   ]
  },
  {
   "cell_type": "code",
   "execution_count": 659,
   "metadata": {
    "button": false,
    "collapsed": false,
    "deletable": true,
    "new_sheet": false,
    "run_control": {
     "read_only": false
    }
   },
   "outputs": [
    {
     "data": {
      "text/plain": [
       "{u'polarity': 0.07184056441576696,\n",
       " u'subjectivity': 0.34168448607166413,\n",
       " u'words': 17}"
      ]
     },
     "execution_count": 659,
     "metadata": {},
     "output_type": "execute_result"
    }
   ],
   "source": [
    "datum[125][\"meta\"]"
   ]
  },
  {
   "cell_type": "code",
   "execution_count": 660,
   "metadata": {
    "button": false,
    "collapsed": false,
    "deletable": true,
    "new_sheet": false,
    "run_control": {
     "read_only": false
    }
   },
   "outputs": [
    {
     "data": {
      "text/plain": [
       "{u'polarity': 0.03141829918861733,\n",
       " u'subjectivity': 0.3079727483690307,\n",
       " u'words': 13}"
      ]
     },
     "execution_count": 660,
     "metadata": {},
     "output_type": "execute_result"
    }
   ],
   "source": [
    "datum[4][\"meta\"]"
   ]
  },
  {
   "cell_type": "code",
   "execution_count": 661,
   "metadata": {
    "button": false,
    "collapsed": false,
    "deletable": true,
    "new_sheet": false,
    "run_control": {
     "read_only": false
    }
   },
   "outputs": [
    {
     "data": {
      "text/plain": [
       "0      0.647983\n",
       "1      0.933421\n",
       "2      0.975821\n",
       "3      0.930495\n",
       "4      0.869028\n",
       "5      0.000000\n",
       "6      0.442429\n",
       "7      0.655724\n",
       "8      0.999727\n",
       "9      0.987513\n",
       "10     0.907493\n",
       "11     0.967929\n",
       "12     0.942868\n",
       "13     0.957510\n",
       "14     0.933259\n",
       "15     0.889239\n",
       "16     0.957340\n",
       "17     0.936240\n",
       "18     0.989036\n",
       "19     0.907321\n",
       "20     0.986546\n",
       "21     0.974299\n",
       "22     0.982943\n",
       "23     0.983675\n",
       "24     0.668571\n",
       "25     0.715307\n",
       "26     0.697433\n",
       "27     0.939252\n",
       "28     0.995078\n",
       "29     0.996032\n",
       "         ...   \n",
       "114    0.908171\n",
       "115    0.920621\n",
       "116    0.880936\n",
       "117    0.940396\n",
       "118    0.592520\n",
       "119    0.915041\n",
       "120    0.989034\n",
       "121    0.869600\n",
       "122    0.964957\n",
       "123    0.927570\n",
       "124    0.495683\n",
       "125    0.978241\n",
       "126    0.825416\n",
       "127    0.917046\n",
       "128    0.451729\n",
       "129    0.984355\n",
       "130    0.852404\n",
       "131    0.758249\n",
       "132    0.863752\n",
       "133    0.872813\n",
       "134    0.982079\n",
       "135    0.944763\n",
       "136    0.300111\n",
       "137    0.863742\n",
       "138    0.895831\n",
       "139    0.704870\n",
       "140    0.920245\n",
       "141    0.972930\n",
       "142    0.974510\n",
       "143    0.967034\n",
       "Name: 74, dtype: float64"
      ]
     },
     "execution_count": 661,
     "metadata": {},
     "output_type": "execute_result"
    }
   ],
   "source": [
    "norm_cs_meta[74]"
   ]
  },
  {
   "cell_type": "code",
   "execution_count": null,
   "metadata": {
    "button": false,
    "collapsed": true,
    "deletable": true,
    "new_sheet": false,
    "run_control": {
     "read_only": false
    }
   },
   "outputs": [],
   "source": []
  }
 ],
 "metadata": {
  "anaconda-cloud": {},
  "kernelspec": {
   "display_name": "Python [Root]",
   "language": "python",
   "name": "Python [Root]"
  },
  "language_info": {
   "codemirror_mode": {
    "name": "ipython",
    "version": 2
   },
   "file_extension": ".py",
   "mimetype": "text/x-python",
   "name": "python",
   "nbconvert_exporter": "python",
   "pygments_lexer": "ipython2",
   "version": "2.7.12"
  }
 },
 "nbformat": 4,
 "nbformat_minor": 0
}
